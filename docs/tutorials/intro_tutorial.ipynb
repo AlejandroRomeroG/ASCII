{
  "cells": [
    {
      "cell_type": "markdown",
      "metadata": {
        "id": "5YRGj5hUBiF7"
      },
      "source": [
        "# Introductory Tutorial\n",
        "\n",
        "### The Boltzmann Wealth Model"
      ]
    },
    {
      "cell_type": "markdown",
      "metadata": {
        "id": "vGPNRVQvBiF-"
      },
      "source": [
        "**Important:**\n",
        "- If you are just exploring Mesa and want the fastest way to execute the code we recommend executing this tutorial online in a Colab notebook. [![Colab](https://colab.research.google.com/assets/colab-badge.svg)](https://colab.research.google.com/github/projectmesa/mesa/blob/main/docs/tutorials/intro_tutorial.ipynb) or if you do not have a Google account you can use [![Binder](https://mybinder.org/badge_logo.svg)](https://mybinder.org/v2/gh/projectmesa/mesa/main?labpath=docs%2Ftutorials%2Fintro_tutorial.ipynb) (This can take 30 seconds to 5 minutes to load)\n",
        "- If you have installed mesa and are running locally, please ensure that your Mesa version is greater than or equal to 3.0.0b1.\n",
        "\n",
        "## Tutorial Description\n",
        "\n",
        "[Mesa](https://github.com/projectmesa/mesa) is a Python framework for [agent-based modeling](https://en.wikipedia.org/wiki/Agent-based_model). This tutorial will assist you in getting started and discover some of the core features of Mesa.  The tutorial starts with the key pieces of a model and then progressively adds functionality.\n",
        "\n",
        "Should anyone find any errors, bugs, have a suggestion, or just are looking for clarification, let us know in our [chat](https://matrix.to/#/#project-mesa:matrix.org)!\n",
        "\n",
        "The premise of this tutorial is to create a starter-level model representing agents exchanging money.\n",
        "\n",
        "The table of contents (icon on the left) shows each of the items this tutorial covers with the major sections being:\n",
        "\n",
        "- Model Description and Set Up\n",
        "- Building the Basic Model\n",
        "- Adding Space\n",
        "- Collecting Data\n",
        "- AgentSet Functionality\n",
        "- Batch Run"
      ]
    },
    {
      "cell_type": "markdown",
      "metadata": {
        "id": "tOlAFGBRBiF_"
      },
      "source": [
        "### More Mesa\n",
        "\n",
        "If you are looking for other Mesa models or tools here are some additional resources.\n",
        "\n",
        "- Interactive Dashboard: There is a separate [visualization tutorial](https://mesa.readthedocs.io/latest/tutorials/visualization_tutorial.html) that will take users through building a dashboard for this model (aka Boltzmann Wealth Model).\n",
        "- Classic ABMs: You can also find canonical examples of ABMs written in Mesa in the [Examples Tab](https://mesa.readthedocs.io/latest/tutorials/examples.html)\n",
        "- More Examples: Want to integrate Reinforcement Learning or work on the Traveling Salesman Problem checkout  [Mesa Examples](https://github.com/projectmesa/mesa-examples/)\n",
        "- Mesa-Geo: If you need an ABM with Geographic Information Systems (GIS) checkout [Mesa-Geo](https://mesa-geo.readthedocs.io/latest/)\n",
        "- Mesa Frames: Have a large complex model that you need to speed up, check out [Mesa Frames](https://github.com/projectmesa/mesa-frames)"
      ]
    },
    {
      "cell_type": "markdown",
      "metadata": {
        "id": "NnhoJMUYBiGA"
      },
      "source": [
        "## Model Description\n",
        "\n",
        "This is a simulated agent-based economy. In an agent-based economy, the behavior of an individual economic agent, such as a consumer or producer, is studied in a market environment.\n",
        "This model is drawn from the field econophysics, specifically a paper prepared by Drăgulescu et al. for additional information on the modeling assumptions used in this model. [Drăgulescu, 2002].\n",
        "\n",
        "The assumption that govern this model are:\n",
        "\n",
        "1. There are some number of agents.\n",
        "2. All agents begin with 1 unit of money.\n",
        "3. At every step of the model, an agent gives 1 unit of money (if they\n",
        "   have it) to some other agent.\n",
        "\n",
        "Even as a starter-level model it yields results that are both interesting and unexpected.\n",
        "\n",
        "Due to its simplicity and intriguing results, we found it to be the best starter model."
      ]
    },
    {
      "cell_type": "markdown",
      "metadata": {
        "id": "smSqSMjLBiGA"
      },
      "source": [
        "### Tutorial Setup\n",
        "\n",
        "Create and activate a [virtual environment](http://docs.python-guide.org/en/latest/dev/virtualenvs/). *Python version 3.11 or higher is required*.\n",
        "\n",
        "Install Mesa:\n",
        "\n",
        "```bash\n",
        "pip install --upgrade mesa[rec]\n",
        "```\n",
        "\n",
        "Install Jupyter notebook (optional):\n",
        "\n",
        "```bash\n",
        "pip install jupyter\n",
        "```\n",
        "\n",
        "Install [Seaborn](https://seaborn.pydata.org/) (which is used for data visualization):\n",
        "\n",
        "```bash\n",
        "pip install seaborn\n",
        "```\n",
        "\n",
        "\n",
        "**If running in Google Colab run the below cell to install Mesa.** (This will also work in a locally installed version of Jupyter)."
      ]
    },
    {
      "cell_type": "markdown",
      "metadata": {
        "id": "rzYZw_emBiGA"
      },
      "source": [
        "### CHANGE THE NEXT CELL to code if you are in Google COLAB"
      ]
    },
    {
      "cell_type": "raw",
      "metadata": {
        "id": "Zj3YWqgjBiGB"
      },
      "source": [
        "pip install --quiet --upgrade mesa[rec] #installs Mesa 3.1.3"
      ]
    },
    {
      "cell_type": "markdown",
      "metadata": {
        "id": "FLd6iqe2BiGB"
      },
      "source": [
        "## Building the Sample Model\n",
        "\n",
        "After Mesa is installed a model can be built. A jupyter notebook is recommended for this tutorial, this allows for small segments of codes to be examined one at a time.\n",
        "\n",
        "### Creating Model With Jupyter notebook\n",
        "\n",
        "Write the model interactively in [Jupyter](http://jupyter.org/) cells.\n",
        "\n",
        "Start Jupyter:\n",
        "\n",
        "```bash\n",
        "jupyter lab\n",
        "```\n",
        "\n",
        "Create a new notebook named `money_model.ipynb` (or whatever you want to call it).\n",
        "\n",
        "### Creating Model With Script File (IDE, Text Editor, Colab, etc.)\n",
        "\n",
        "Create a new file called `money_model.py` (or whatever you want to call it)\n",
        "\n",
        "*Code will be added as the tutorial progresses.*\n",
        "\n",
        "**Good Practice:** Place a model in its own folder/directory. This is not specifically required for the starter_model, but as other models become more complicated and expand multiple python scripts, documentation, discussions and notebooks may be added."
      ]
    },
    {
      "cell_type": "markdown",
      "metadata": {
        "id": "x93HXXkmBiGC"
      },
      "source": [
        "### Import Dependencies\n",
        "This includes importing of dependencies needed for the tutorial."
      ]
    },
    {
      "cell_type": "code",
      "source": [
        "pip install --upgrade mesa[rec]"
      ],
      "metadata": {
        "collapsed": true,
        "id": "a4hEXYXWCJtQ",
        "outputId": "4cf37d5e-dcbd-4b9f-ac20-e28683330fa6",
        "colab": {
          "base_uri": "https://localhost:8080/"
        }
      },
      "execution_count": 2,
      "outputs": [
        {
          "output_type": "stream",
          "name": "stdout",
          "text": [
            "Collecting mesa[rec]\n",
            "  Downloading mesa-3.1.3-py3-none-any.whl.metadata (10.0 kB)\n",
            "Requirement already satisfied: numpy in /usr/local/lib/python3.11/dist-packages (from mesa[rec]) (1.26.4)\n",
            "Requirement already satisfied: pandas in /usr/local/lib/python3.11/dist-packages (from mesa[rec]) (2.2.2)\n",
            "Requirement already satisfied: scipy in /usr/local/lib/python3.11/dist-packages (from mesa[rec]) (1.13.1)\n",
            "Requirement already satisfied: tqdm in /usr/local/lib/python3.11/dist-packages (from mesa[rec]) (4.67.1)\n",
            "Requirement already satisfied: matplotlib in /usr/local/lib/python3.11/dist-packages (from mesa[rec]) (3.10.0)\n",
            "Requirement already satisfied: networkx in /usr/local/lib/python3.11/dist-packages (from mesa[rec]) (3.4.2)\n",
            "Collecting solara (from mesa[rec])\n",
            "  Downloading solara-1.43.0-py2.py3-none-any.whl.metadata (10 kB)\n",
            "Requirement already satisfied: contourpy>=1.0.1 in /usr/local/lib/python3.11/dist-packages (from matplotlib->mesa[rec]) (1.3.1)\n",
            "Requirement already satisfied: cycler>=0.10 in /usr/local/lib/python3.11/dist-packages (from matplotlib->mesa[rec]) (0.12.1)\n",
            "Requirement already satisfied: fonttools>=4.22.0 in /usr/local/lib/python3.11/dist-packages (from matplotlib->mesa[rec]) (4.55.3)\n",
            "Requirement already satisfied: kiwisolver>=1.3.1 in /usr/local/lib/python3.11/dist-packages (from matplotlib->mesa[rec]) (1.4.8)\n",
            "Requirement already satisfied: packaging>=20.0 in /usr/local/lib/python3.11/dist-packages (from matplotlib->mesa[rec]) (24.2)\n",
            "Requirement already satisfied: pillow>=8 in /usr/local/lib/python3.11/dist-packages (from matplotlib->mesa[rec]) (11.1.0)\n",
            "Requirement already satisfied: pyparsing>=2.3.1 in /usr/local/lib/python3.11/dist-packages (from matplotlib->mesa[rec]) (3.2.1)\n",
            "Requirement already satisfied: python-dateutil>=2.7 in /usr/local/lib/python3.11/dist-packages (from matplotlib->mesa[rec]) (2.8.2)\n",
            "Requirement already satisfied: pytz>=2020.1 in /usr/local/lib/python3.11/dist-packages (from pandas->mesa[rec]) (2024.2)\n",
            "Requirement already satisfied: tzdata>=2022.7 in /usr/local/lib/python3.11/dist-packages (from pandas->mesa[rec]) (2024.2)\n",
            "Collecting solara-server==1.43.0 (from solara-server[dev,starlette]==1.43.0->solara->mesa[rec])\n",
            "  Downloading solara_server-1.43.0-py2.py3-none-any.whl.metadata (2.9 kB)\n",
            "Collecting solara-ui==1.43.0 (from solara-ui[all]==1.43.0->solara->mesa[rec])\n",
            "  Downloading solara_ui-1.43.0-py2.py3-none-any.whl.metadata (7.4 kB)\n",
            "Requirement already satisfied: click>=7.1.0 in /usr/local/lib/python3.11/dist-packages (from solara-server==1.43.0->solara-server[dev,starlette]==1.43.0->solara->mesa[rec]) (8.1.8)\n",
            "Requirement already satisfied: filelock in /usr/local/lib/python3.11/dist-packages (from solara-server==1.43.0->solara-server[dev,starlette]==1.43.0->solara->mesa[rec]) (3.16.1)\n",
            "Requirement already satisfied: ipykernel in /usr/local/lib/python3.11/dist-packages (from solara-server==1.43.0->solara-server[dev,starlette]==1.43.0->solara->mesa[rec]) (5.5.6)\n",
            "Requirement already satisfied: jinja2 in /usr/local/lib/python3.11/dist-packages (from solara-server==1.43.0->solara-server[dev,starlette]==1.43.0->solara->mesa[rec]) (3.1.5)\n",
            "Requirement already satisfied: jupyter-client in /usr/local/lib/python3.11/dist-packages (from solara-server==1.43.0->solara-server[dev,starlette]==1.43.0->solara->mesa[rec]) (6.1.12)\n",
            "Requirement already satisfied: nbformat in /usr/local/lib/python3.11/dist-packages (from solara-server==1.43.0->solara-server[dev,starlette]==1.43.0->solara->mesa[rec]) (5.10.4)\n",
            "Collecting rich-click (from solara-server==1.43.0->solara-server[dev,starlette]==1.43.0->solara->mesa[rec])\n",
            "  Downloading rich_click-1.8.5-py3-none-any.whl.metadata (7.9 kB)\n",
            "Collecting watchdog (from solara-server[dev,starlette]==1.43.0->solara->mesa[rec])\n",
            "  Downloading watchdog-6.0.0-py3-none-manylinux2014_x86_64.whl.metadata (44 kB)\n",
            "\u001b[2K     \u001b[90m━━━━━━━━━━━━━━━━━━━━━━━━━━━━━━━━━━━━━━━━\u001b[0m \u001b[32m44.3/44.3 kB\u001b[0m \u001b[31m1.9 MB/s\u001b[0m eta \u001b[36m0:00:00\u001b[0m\n",
            "\u001b[?25hCollecting watchfiles (from solara-server[dev,starlette]==1.43.0->solara->mesa[rec])\n",
            "  Downloading watchfiles-1.0.4-cp311-cp311-manylinux_2_17_x86_64.manylinux2014_x86_64.whl.metadata (4.9 kB)\n",
            "Collecting starlette (from solara-server[dev,starlette]==1.43.0->solara->mesa[rec])\n",
            "  Downloading starlette-0.45.2-py3-none-any.whl.metadata (6.3 kB)\n",
            "Collecting uvicorn (from solara-server[dev,starlette]==1.43.0->solara->mesa[rec])\n",
            "  Downloading uvicorn-0.34.0-py3-none-any.whl.metadata (6.5 kB)\n",
            "Requirement already satisfied: websockets in /usr/local/lib/python3.11/dist-packages (from solara-server[dev,starlette]==1.43.0->solara->mesa[rec]) (14.1)\n",
            "Requirement already satisfied: humanize in /usr/local/lib/python3.11/dist-packages (from solara-ui==1.43.0->solara-ui[all]==1.43.0->solara->mesa[rec]) (4.11.0)\n",
            "Collecting ipyvue>=1.9.0 (from solara-ui==1.43.0->solara-ui[all]==1.43.0->solara->mesa[rec])\n",
            "  Downloading ipyvue-1.11.2-py2.py3-none-any.whl.metadata (1.1 kB)\n",
            "Collecting ipyvuetify>=1.6.10 (from solara-ui==1.43.0->solara-ui[all]==1.43.0->solara->mesa[rec])\n",
            "  Downloading ipyvuetify-1.10.0-py2.py3-none-any.whl.metadata (7.5 kB)\n",
            "Requirement already satisfied: ipywidgets>=7.7 in /usr/local/lib/python3.11/dist-packages (from solara-ui==1.43.0->solara-ui[all]==1.43.0->solara->mesa[rec]) (7.7.1)\n",
            "Collecting reacton>=1.9 (from solara-ui==1.43.0->solara-ui[all]==1.43.0->solara->mesa[rec])\n",
            "  Downloading reacton-1.9.0-py2.py3-none-any.whl.metadata (3.0 kB)\n",
            "Requirement already satisfied: requests in /usr/local/lib/python3.11/dist-packages (from solara-ui==1.43.0->solara-ui[all]==1.43.0->solara->mesa[rec]) (2.32.3)\n",
            "Requirement already satisfied: cachetools in /usr/local/lib/python3.11/dist-packages (from solara-ui[all]==1.43.0->solara->mesa[rec]) (5.5.0)\n",
            "Requirement already satisfied: markdown in /usr/local/lib/python3.11/dist-packages (from solara-ui[all]==1.43.0->solara->mesa[rec]) (3.7)\n",
            "Requirement already satisfied: pygments in /usr/local/lib/python3.11/dist-packages (from solara-ui[all]==1.43.0->solara->mesa[rec]) (2.18.0)\n",
            "Collecting pymdown-extensions (from solara-ui[all]==1.43.0->solara->mesa[rec])\n",
            "  Downloading pymdown_extensions-10.14-py3-none-any.whl.metadata (3.0 kB)\n",
            "Requirement already satisfied: six>=1.5 in /usr/local/lib/python3.11/dist-packages (from python-dateutil>=2.7->matplotlib->mesa[rec]) (1.17.0)\n",
            "Requirement already satisfied: ipython-genutils~=0.2.0 in /usr/local/lib/python3.11/dist-packages (from ipywidgets>=7.7->solara-ui==1.43.0->solara-ui[all]==1.43.0->solara->mesa[rec]) (0.2.0)\n",
            "Requirement already satisfied: traitlets>=4.3.1 in /usr/local/lib/python3.11/dist-packages (from ipywidgets>=7.7->solara-ui==1.43.0->solara-ui[all]==1.43.0->solara->mesa[rec]) (5.7.1)\n",
            "Requirement already satisfied: widgetsnbextension~=3.6.0 in /usr/local/lib/python3.11/dist-packages (from ipywidgets>=7.7->solara-ui==1.43.0->solara-ui[all]==1.43.0->solara->mesa[rec]) (3.6.10)\n",
            "Requirement already satisfied: ipython>=4.0.0 in /usr/local/lib/python3.11/dist-packages (from ipywidgets>=7.7->solara-ui==1.43.0->solara-ui[all]==1.43.0->solara->mesa[rec]) (7.34.0)\n",
            "Requirement already satisfied: jupyterlab-widgets>=1.0.0 in /usr/local/lib/python3.11/dist-packages (from ipywidgets>=7.7->solara-ui==1.43.0->solara-ui[all]==1.43.0->solara->mesa[rec]) (3.0.13)\n",
            "Requirement already satisfied: tornado>=4.2 in /usr/local/lib/python3.11/dist-packages (from ipykernel->solara-server==1.43.0->solara-server[dev,starlette]==1.43.0->solara->mesa[rec]) (6.3.3)\n",
            "Requirement already satisfied: typing-extensions>=4.1.1 in /usr/local/lib/python3.11/dist-packages (from reacton>=1.9->solara-ui==1.43.0->solara-ui[all]==1.43.0->solara->mesa[rec]) (4.12.2)\n",
            "Requirement already satisfied: MarkupSafe>=2.0 in /usr/local/lib/python3.11/dist-packages (from jinja2->solara-server==1.43.0->solara-server[dev,starlette]==1.43.0->solara->mesa[rec]) (3.0.2)\n",
            "Requirement already satisfied: jupyter-core>=4.6.0 in /usr/local/lib/python3.11/dist-packages (from jupyter-client->solara-server==1.43.0->solara-server[dev,starlette]==1.43.0->solara->mesa[rec]) (5.7.2)\n",
            "Requirement already satisfied: pyzmq>=13 in /usr/local/lib/python3.11/dist-packages (from jupyter-client->solara-server==1.43.0->solara-server[dev,starlette]==1.43.0->solara->mesa[rec]) (24.0.1)\n",
            "Requirement already satisfied: fastjsonschema>=2.15 in /usr/local/lib/python3.11/dist-packages (from nbformat->solara-server==1.43.0->solara-server[dev,starlette]==1.43.0->solara->mesa[rec]) (2.21.1)\n",
            "Requirement already satisfied: jsonschema>=2.6 in /usr/local/lib/python3.11/dist-packages (from nbformat->solara-server==1.43.0->solara-server[dev,starlette]==1.43.0->solara->mesa[rec]) (4.23.0)\n",
            "Requirement already satisfied: pyyaml in /usr/local/lib/python3.11/dist-packages (from pymdown-extensions->solara-ui[all]==1.43.0->solara->mesa[rec]) (6.0.2)\n",
            "Requirement already satisfied: charset-normalizer<4,>=2 in /usr/local/lib/python3.11/dist-packages (from requests->solara-ui==1.43.0->solara-ui[all]==1.43.0->solara->mesa[rec]) (3.4.1)\n",
            "Requirement already satisfied: idna<4,>=2.5 in /usr/local/lib/python3.11/dist-packages (from requests->solara-ui==1.43.0->solara-ui[all]==1.43.0->solara->mesa[rec]) (3.10)\n",
            "Requirement already satisfied: urllib3<3,>=1.21.1 in /usr/local/lib/python3.11/dist-packages (from requests->solara-ui==1.43.0->solara-ui[all]==1.43.0->solara->mesa[rec]) (2.3.0)\n",
            "Requirement already satisfied: certifi>=2017.4.17 in /usr/local/lib/python3.11/dist-packages (from requests->solara-ui==1.43.0->solara-ui[all]==1.43.0->solara->mesa[rec]) (2024.12.14)\n",
            "Requirement already satisfied: rich>=10.7 in /usr/local/lib/python3.11/dist-packages (from rich-click->solara-server==1.43.0->solara-server[dev,starlette]==1.43.0->solara->mesa[rec]) (13.9.4)\n",
            "Requirement already satisfied: anyio<5,>=3.6.2 in /usr/local/lib/python3.11/dist-packages (from starlette->solara-server[dev,starlette]==1.43.0->solara->mesa[rec]) (3.7.1)\n",
            "Requirement already satisfied: h11>=0.8 in /usr/local/lib/python3.11/dist-packages (from uvicorn->solara-server[dev,starlette]==1.43.0->solara->mesa[rec]) (0.14.0)\n",
            "Requirement already satisfied: sniffio>=1.1 in /usr/local/lib/python3.11/dist-packages (from anyio<5,>=3.6.2->starlette->solara-server[dev,starlette]==1.43.0->solara->mesa[rec]) (1.3.1)\n",
            "Requirement already satisfied: setuptools>=18.5 in /usr/local/lib/python3.11/dist-packages (from ipython>=4.0.0->ipywidgets>=7.7->solara-ui==1.43.0->solara-ui[all]==1.43.0->solara->mesa[rec]) (75.1.0)\n",
            "Collecting jedi>=0.16 (from ipython>=4.0.0->ipywidgets>=7.7->solara-ui==1.43.0->solara-ui[all]==1.43.0->solara->mesa[rec])\n",
            "  Downloading jedi-0.19.2-py2.py3-none-any.whl.metadata (22 kB)\n",
            "Requirement already satisfied: decorator in /usr/local/lib/python3.11/dist-packages (from ipython>=4.0.0->ipywidgets>=7.7->solara-ui==1.43.0->solara-ui[all]==1.43.0->solara->mesa[rec]) (4.4.2)\n",
            "Requirement already satisfied: pickleshare in /usr/local/lib/python3.11/dist-packages (from ipython>=4.0.0->ipywidgets>=7.7->solara-ui==1.43.0->solara-ui[all]==1.43.0->solara->mesa[rec]) (0.7.5)\n",
            "Requirement already satisfied: prompt-toolkit!=3.0.0,!=3.0.1,<3.1.0,>=2.0.0 in /usr/local/lib/python3.11/dist-packages (from ipython>=4.0.0->ipywidgets>=7.7->solara-ui==1.43.0->solara-ui[all]==1.43.0->solara->mesa[rec]) (3.0.48)\n",
            "Requirement already satisfied: backcall in /usr/local/lib/python3.11/dist-packages (from ipython>=4.0.0->ipywidgets>=7.7->solara-ui==1.43.0->solara-ui[all]==1.43.0->solara->mesa[rec]) (0.2.0)\n",
            "Requirement already satisfied: matplotlib-inline in /usr/local/lib/python3.11/dist-packages (from ipython>=4.0.0->ipywidgets>=7.7->solara-ui==1.43.0->solara-ui[all]==1.43.0->solara->mesa[rec]) (0.1.7)\n",
            "Requirement already satisfied: pexpect>4.3 in /usr/local/lib/python3.11/dist-packages (from ipython>=4.0.0->ipywidgets>=7.7->solara-ui==1.43.0->solara-ui[all]==1.43.0->solara->mesa[rec]) (4.9.0)\n",
            "Requirement already satisfied: attrs>=22.2.0 in /usr/local/lib/python3.11/dist-packages (from jsonschema>=2.6->nbformat->solara-server==1.43.0->solara-server[dev,starlette]==1.43.0->solara->mesa[rec]) (24.3.0)\n",
            "Requirement already satisfied: jsonschema-specifications>=2023.03.6 in /usr/local/lib/python3.11/dist-packages (from jsonschema>=2.6->nbformat->solara-server==1.43.0->solara-server[dev,starlette]==1.43.0->solara->mesa[rec]) (2024.10.1)\n",
            "Requirement already satisfied: referencing>=0.28.4 in /usr/local/lib/python3.11/dist-packages (from jsonschema>=2.6->nbformat->solara-server==1.43.0->solara-server[dev,starlette]==1.43.0->solara->mesa[rec]) (0.35.1)\n",
            "Requirement already satisfied: rpds-py>=0.7.1 in /usr/local/lib/python3.11/dist-packages (from jsonschema>=2.6->nbformat->solara-server==1.43.0->solara-server[dev,starlette]==1.43.0->solara->mesa[rec]) (0.22.3)\n",
            "Requirement already satisfied: platformdirs>=2.5 in /usr/local/lib/python3.11/dist-packages (from jupyter-core>=4.6.0->jupyter-client->solara-server==1.43.0->solara-server[dev,starlette]==1.43.0->solara->mesa[rec]) (4.3.6)\n",
            "Requirement already satisfied: markdown-it-py>=2.2.0 in /usr/local/lib/python3.11/dist-packages (from rich>=10.7->rich-click->solara-server==1.43.0->solara-server[dev,starlette]==1.43.0->solara->mesa[rec]) (3.0.0)\n",
            "Requirement already satisfied: notebook>=4.4.1 in /usr/local/lib/python3.11/dist-packages (from widgetsnbextension~=3.6.0->ipywidgets>=7.7->solara-ui==1.43.0->solara-ui[all]==1.43.0->solara->mesa[rec]) (6.5.5)\n",
            "Requirement already satisfied: parso<0.9.0,>=0.8.4 in /usr/local/lib/python3.11/dist-packages (from jedi>=0.16->ipython>=4.0.0->ipywidgets>=7.7->solara-ui==1.43.0->solara-ui[all]==1.43.0->solara->mesa[rec]) (0.8.4)\n",
            "Requirement already satisfied: mdurl~=0.1 in /usr/local/lib/python3.11/dist-packages (from markdown-it-py>=2.2.0->rich>=10.7->rich-click->solara-server==1.43.0->solara-server[dev,starlette]==1.43.0->solara->mesa[rec]) (0.1.2)\n",
            "Requirement already satisfied: argon2-cffi in /usr/local/lib/python3.11/dist-packages (from notebook>=4.4.1->widgetsnbextension~=3.6.0->ipywidgets>=7.7->solara-ui==1.43.0->solara-ui[all]==1.43.0->solara->mesa[rec]) (23.1.0)\n",
            "Requirement already satisfied: nbconvert>=5 in /usr/local/lib/python3.11/dist-packages (from notebook>=4.4.1->widgetsnbextension~=3.6.0->ipywidgets>=7.7->solara-ui==1.43.0->solara-ui[all]==1.43.0->solara->mesa[rec]) (7.16.5)\n",
            "Requirement already satisfied: nest-asyncio>=1.5 in /usr/local/lib/python3.11/dist-packages (from notebook>=4.4.1->widgetsnbextension~=3.6.0->ipywidgets>=7.7->solara-ui==1.43.0->solara-ui[all]==1.43.0->solara->mesa[rec]) (1.6.0)\n",
            "Requirement already satisfied: Send2Trash>=1.8.0 in /usr/local/lib/python3.11/dist-packages (from notebook>=4.4.1->widgetsnbextension~=3.6.0->ipywidgets>=7.7->solara-ui==1.43.0->solara-ui[all]==1.43.0->solara->mesa[rec]) (1.8.3)\n",
            "Requirement already satisfied: terminado>=0.8.3 in /usr/local/lib/python3.11/dist-packages (from notebook>=4.4.1->widgetsnbextension~=3.6.0->ipywidgets>=7.7->solara-ui==1.43.0->solara-ui[all]==1.43.0->solara->mesa[rec]) (0.18.1)\n",
            "Requirement already satisfied: prometheus-client in /usr/local/lib/python3.11/dist-packages (from notebook>=4.4.1->widgetsnbextension~=3.6.0->ipywidgets>=7.7->solara-ui==1.43.0->solara-ui[all]==1.43.0->solara->mesa[rec]) (0.21.1)\n",
            "Requirement already satisfied: nbclassic>=0.4.7 in /usr/local/lib/python3.11/dist-packages (from notebook>=4.4.1->widgetsnbextension~=3.6.0->ipywidgets>=7.7->solara-ui==1.43.0->solara-ui[all]==1.43.0->solara->mesa[rec]) (1.1.0)\n",
            "Requirement already satisfied: ptyprocess>=0.5 in /usr/local/lib/python3.11/dist-packages (from pexpect>4.3->ipython>=4.0.0->ipywidgets>=7.7->solara-ui==1.43.0->solara-ui[all]==1.43.0->solara->mesa[rec]) (0.7.0)\n",
            "Requirement already satisfied: wcwidth in /usr/local/lib/python3.11/dist-packages (from prompt-toolkit!=3.0.0,!=3.0.1,<3.1.0,>=2.0.0->ipython>=4.0.0->ipywidgets>=7.7->solara-ui==1.43.0->solara-ui[all]==1.43.0->solara->mesa[rec]) (0.2.13)\n",
            "Requirement already satisfied: notebook-shim>=0.2.3 in /usr/local/lib/python3.11/dist-packages (from nbclassic>=0.4.7->notebook>=4.4.1->widgetsnbextension~=3.6.0->ipywidgets>=7.7->solara-ui==1.43.0->solara-ui[all]==1.43.0->solara->mesa[rec]) (0.2.4)\n",
            "Requirement already satisfied: beautifulsoup4 in /usr/local/lib/python3.11/dist-packages (from nbconvert>=5->notebook>=4.4.1->widgetsnbextension~=3.6.0->ipywidgets>=7.7->solara-ui==1.43.0->solara-ui[all]==1.43.0->solara->mesa[rec]) (4.12.3)\n",
            "Requirement already satisfied: bleach!=5.0.0 in /usr/local/lib/python3.11/dist-packages (from bleach[css]!=5.0.0->nbconvert>=5->notebook>=4.4.1->widgetsnbextension~=3.6.0->ipywidgets>=7.7->solara-ui==1.43.0->solara-ui[all]==1.43.0->solara->mesa[rec]) (6.2.0)\n",
            "Requirement already satisfied: defusedxml in /usr/local/lib/python3.11/dist-packages (from nbconvert>=5->notebook>=4.4.1->widgetsnbextension~=3.6.0->ipywidgets>=7.7->solara-ui==1.43.0->solara-ui[all]==1.43.0->solara->mesa[rec]) (0.7.1)\n",
            "Requirement already satisfied: jupyterlab-pygments in /usr/local/lib/python3.11/dist-packages (from nbconvert>=5->notebook>=4.4.1->widgetsnbextension~=3.6.0->ipywidgets>=7.7->solara-ui==1.43.0->solara-ui[all]==1.43.0->solara->mesa[rec]) (0.3.0)\n",
            "Requirement already satisfied: mistune<4,>=2.0.3 in /usr/local/lib/python3.11/dist-packages (from nbconvert>=5->notebook>=4.4.1->widgetsnbextension~=3.6.0->ipywidgets>=7.7->solara-ui==1.43.0->solara-ui[all]==1.43.0->solara->mesa[rec]) (3.1.0)\n",
            "Requirement already satisfied: nbclient>=0.5.0 in /usr/local/lib/python3.11/dist-packages (from nbconvert>=5->notebook>=4.4.1->widgetsnbextension~=3.6.0->ipywidgets>=7.7->solara-ui==1.43.0->solara-ui[all]==1.43.0->solara->mesa[rec]) (0.10.2)\n",
            "Requirement already satisfied: pandocfilters>=1.4.1 in /usr/local/lib/python3.11/dist-packages (from nbconvert>=5->notebook>=4.4.1->widgetsnbextension~=3.6.0->ipywidgets>=7.7->solara-ui==1.43.0->solara-ui[all]==1.43.0->solara->mesa[rec]) (1.5.1)\n",
            "Requirement already satisfied: argon2-cffi-bindings in /usr/local/lib/python3.11/dist-packages (from argon2-cffi->notebook>=4.4.1->widgetsnbextension~=3.6.0->ipywidgets>=7.7->solara-ui==1.43.0->solara-ui[all]==1.43.0->solara->mesa[rec]) (21.2.0)\n",
            "Requirement already satisfied: webencodings in /usr/local/lib/python3.11/dist-packages (from bleach!=5.0.0->bleach[css]!=5.0.0->nbconvert>=5->notebook>=4.4.1->widgetsnbextension~=3.6.0->ipywidgets>=7.7->solara-ui==1.43.0->solara-ui[all]==1.43.0->solara->mesa[rec]) (0.5.1)\n",
            "Requirement already satisfied: tinycss2<1.5,>=1.1.0 in /usr/local/lib/python3.11/dist-packages (from bleach[css]!=5.0.0->nbconvert>=5->notebook>=4.4.1->widgetsnbextension~=3.6.0->ipywidgets>=7.7->solara-ui==1.43.0->solara-ui[all]==1.43.0->solara->mesa[rec]) (1.4.0)\n",
            "Requirement already satisfied: jupyter-server<3,>=1.8 in /usr/local/lib/python3.11/dist-packages (from notebook-shim>=0.2.3->nbclassic>=0.4.7->notebook>=4.4.1->widgetsnbextension~=3.6.0->ipywidgets>=7.7->solara-ui==1.43.0->solara-ui[all]==1.43.0->solara->mesa[rec]) (1.24.0)\n",
            "Requirement already satisfied: cffi>=1.0.1 in /usr/local/lib/python3.11/dist-packages (from argon2-cffi-bindings->argon2-cffi->notebook>=4.4.1->widgetsnbextension~=3.6.0->ipywidgets>=7.7->solara-ui==1.43.0->solara-ui[all]==1.43.0->solara->mesa[rec]) (1.17.1)\n",
            "Requirement already satisfied: soupsieve>1.2 in /usr/local/lib/python3.11/dist-packages (from beautifulsoup4->nbconvert>=5->notebook>=4.4.1->widgetsnbextension~=3.6.0->ipywidgets>=7.7->solara-ui==1.43.0->solara-ui[all]==1.43.0->solara->mesa[rec]) (2.6)\n",
            "Requirement already satisfied: pycparser in /usr/local/lib/python3.11/dist-packages (from cffi>=1.0.1->argon2-cffi-bindings->argon2-cffi->notebook>=4.4.1->widgetsnbextension~=3.6.0->ipywidgets>=7.7->solara-ui==1.43.0->solara-ui[all]==1.43.0->solara->mesa[rec]) (2.22)\n",
            "Requirement already satisfied: websocket-client in /usr/local/lib/python3.11/dist-packages (from jupyter-server<3,>=1.8->notebook-shim>=0.2.3->nbclassic>=0.4.7->notebook>=4.4.1->widgetsnbextension~=3.6.0->ipywidgets>=7.7->solara-ui==1.43.0->solara-ui[all]==1.43.0->solara->mesa[rec]) (1.8.0)\n",
            "Downloading mesa-3.1.3-py3-none-any.whl (176 kB)\n",
            "\u001b[2K   \u001b[90m━━━━━━━━━━━━━━━━━━━━━━━━━━━━━━━━━━━━━━━━\u001b[0m \u001b[32m176.7/176.7 kB\u001b[0m \u001b[31m6.1 MB/s\u001b[0m eta \u001b[36m0:00:00\u001b[0m\n",
            "\u001b[?25hDownloading solara-1.43.0-py2.py3-none-any.whl (5.9 kB)\n",
            "Downloading solara_server-1.43.0-py2.py3-none-any.whl (3.9 kB)\n",
            "Downloading solara_ui-1.43.0-py2.py3-none-any.whl (1.3 MB)\n",
            "\u001b[2K   \u001b[90m━━━━━━━━━━━━━━━━━━━━━━━━━━━━━━━━━━━━━━━━\u001b[0m \u001b[32m1.3/1.3 MB\u001b[0m \u001b[31m26.0 MB/s\u001b[0m eta \u001b[36m0:00:00\u001b[0m\n",
            "\u001b[?25hDownloading ipyvue-1.11.2-py2.py3-none-any.whl (2.7 MB)\n",
            "\u001b[2K   \u001b[90m━━━━━━━━━━━━━━━━━━━━━━━━━━━━━━━━━━━━━━━━\u001b[0m \u001b[32m2.7/2.7 MB\u001b[0m \u001b[31m73.8 MB/s\u001b[0m eta \u001b[36m0:00:00\u001b[0m\n",
            "\u001b[?25hDownloading ipyvuetify-1.10.0-py2.py3-none-any.whl (6.1 MB)\n",
            "\u001b[2K   \u001b[90m━━━━━━━━━━━━━━━━━━━━━━━━━━━━━━━━━━━━━━━━\u001b[0m \u001b[32m6.1/6.1 MB\u001b[0m \u001b[31m97.7 MB/s\u001b[0m eta \u001b[36m0:00:00\u001b[0m\n",
            "\u001b[?25hDownloading reacton-1.9.0-py2.py3-none-any.whl (108 kB)\n",
            "\u001b[2K   \u001b[90m━━━━━━━━━━━━━━━━━━━━━━━━━━━━━━━━━━━━━━━━\u001b[0m \u001b[32m108.8/108.8 kB\u001b[0m \u001b[31m12.7 MB/s\u001b[0m eta \u001b[36m0:00:00\u001b[0m\n",
            "\u001b[?25hDownloading pymdown_extensions-10.14-py3-none-any.whl (264 kB)\n",
            "\u001b[2K   \u001b[90m━━━━━━━━━━━━━━━━━━━━━━━━━━━━━━━━━━━━━━━━\u001b[0m \u001b[32m264.3/264.3 kB\u001b[0m \u001b[31m24.7 MB/s\u001b[0m eta \u001b[36m0:00:00\u001b[0m\n",
            "\u001b[?25hDownloading rich_click-1.8.5-py3-none-any.whl (35 kB)\n",
            "Downloading starlette-0.45.2-py3-none-any.whl (71 kB)\n",
            "\u001b[2K   \u001b[90m━━━━━━━━━━━━━━━━━━━━━━━━━━━━━━━━━━━━━━━━\u001b[0m \u001b[32m71.5/71.5 kB\u001b[0m \u001b[31m7.6 MB/s\u001b[0m eta \u001b[36m0:00:00\u001b[0m\n",
            "\u001b[?25hDownloading uvicorn-0.34.0-py3-none-any.whl (62 kB)\n",
            "\u001b[2K   \u001b[90m━━━━━━━━━━━━━━━━━━━━━━━━━━━━━━━━━━━━━━━━\u001b[0m \u001b[32m62.3/62.3 kB\u001b[0m \u001b[31m6.6 MB/s\u001b[0m eta \u001b[36m0:00:00\u001b[0m\n",
            "\u001b[?25hDownloading watchdog-6.0.0-py3-none-manylinux2014_x86_64.whl (79 kB)\n",
            "\u001b[2K   \u001b[90m━━━━━━━━━━━━━━━━━━━━━━━━━━━━━━━━━━━━━━━━\u001b[0m \u001b[32m79.1/79.1 kB\u001b[0m \u001b[31m8.7 MB/s\u001b[0m eta \u001b[36m0:00:00\u001b[0m\n",
            "\u001b[?25hDownloading watchfiles-1.0.4-cp311-cp311-manylinux_2_17_x86_64.manylinux2014_x86_64.whl (452 kB)\n",
            "\u001b[2K   \u001b[90m━━━━━━━━━━━━━━━━━━━━━━━━━━━━━━━━━━━━━━━━\u001b[0m \u001b[32m452.6/452.6 kB\u001b[0m \u001b[31m38.7 MB/s\u001b[0m eta \u001b[36m0:00:00\u001b[0m\n",
            "\u001b[?25hDownloading jedi-0.19.2-py2.py3-none-any.whl (1.6 MB)\n",
            "\u001b[2K   \u001b[90m━━━━━━━━━━━━━━━━━━━━━━━━━━━━━━━━━━━━━━━━\u001b[0m \u001b[32m1.6/1.6 MB\u001b[0m \u001b[31m69.0 MB/s\u001b[0m eta \u001b[36m0:00:00\u001b[0m\n",
            "\u001b[?25hInstalling collected packages: watchdog, uvicorn, pymdown-extensions, jedi, watchfiles, starlette, rich-click, mesa, reacton, ipyvue, ipyvuetify, solara-ui, solara-server, solara\n",
            "Successfully installed ipyvue-1.11.2 ipyvuetify-1.10.0 jedi-0.19.2 mesa-3.1.3 pymdown-extensions-10.14 reacton-1.9.0 rich-click-1.8.5 solara-1.43.0 solara-server-1.43.0 solara-ui-1.43.0 starlette-0.45.2 uvicorn-0.34.0 watchdog-6.0.0 watchfiles-1.0.4\n"
          ]
        }
      ]
    },
    {
      "cell_type": "code",
      "execution_count": 3,
      "metadata": {
        "jupyter": {
          "outputs_hidden": false
        },
        "id": "dP-GTqnLBiGC"
      },
      "outputs": [],
      "source": [
        "import mesa\n",
        "\n",
        "# Data visualization tools.\n",
        "import seaborn as sns\n",
        "\n",
        "# Has multi-dimensional arrays and matrices. Has a large collection of\n",
        "# mathematical functions to operate on these arrays.\n",
        "import numpy as np\n",
        "\n",
        "# Data manipulation and analysis.\n",
        "import pandas as pd"
      ]
    },
    {
      "cell_type": "markdown",
      "metadata": {
        "id": "zr59a14oBiGD"
      },
      "source": [
        "### Create Agent\n",
        "\n",
        "First create the agent. As the tutorial progresses, more functionality will be added to the agent.\n",
        "\n",
        "**Background:** Agents are the individual entities that act in the model. Mesa automatically assigns each agent that is created an integer as a `unique_id.`\n",
        "\n",
        "**Model-specific information:** Agents are the individuals that exchange money, in this case the amount of money an individual agent has is represented as wealth.\n",
        "\n",
        "**Code implementation:** This is done by creating a new class (or object) that extends `mesa.Agent` creating a subclass of  the `Agent` class from mesa. The new class is named `MoneyAgent`. The inherited code of the Mesa agent object can be found in the [mesa repo](https://github.com/projectmesa/mesa/blob/main/mesa/agent.py).\n",
        "\n",
        "The `MoneyAgent` class is created with the following code:"
      ]
    },
    {
      "cell_type": "code",
      "execution_count": 4,
      "metadata": {
        "id": "IAgHaIi_BiGD"
      },
      "outputs": [],
      "source": [
        "class MoneyAgent(mesa.Agent):\n",
        "    \"\"\"An agent with fixed initial wealth.\"\"\"\n",
        "\n",
        "    def __init__(self, model):\n",
        "        # Pass the parameters to the parent class.\n",
        "        super().__init__(model)\n",
        "\n",
        "        # Create the agent's variable and set the initial values.\n",
        "        self.wealth = 1"
      ]
    },
    {
      "cell_type": "markdown",
      "metadata": {
        "id": "1Kk7TyNeBiGD"
      },
      "source": [
        "### Create Model\n",
        "\n",
        "Next, create the model. This gives us the two basic classes of any Mesa ABM - the agent class (population of agent objects that doing something) and the manager class (a model object that manages the creation, activation, datacollection etc of the agents)\n",
        "\n",
        "**Background:** The model can be visualized as a list containing all the agents. The model creates, holds and manages all the agent objects, specifically in a dictionary. The model activates agents in discrete time steps.\n",
        "\n",
        "**Model-specific information:** When a model is created the number of agents within the model is specified. The model then creates the agents and places them in a set of agents.\n",
        "\n",
        "**Code implementation:** This is done by creating a new class (or object) that extends `mesa.Model` and calls `super().__init__()`, creating a subclass of the `Model` class from mesa. The new class is named `MoneyModel`.  The technical details about the model object can be found in [model module](https://github.com/projectmesa/mesa/blob/main/mesa/model.py) and the AgentSet in the [agent module](https://github.com/projectmesa/mesa/blob/d7a3834c99a3be809abe2edc8b83610f3d4438ba/mesa/agent.py#L86). A critical point is that you can use the `seed` kwarg (keyword argument) to set a seed which controls the random number generator of the model class allowing for the reproducibility of results.\n",
        "\n",
        "The `MoneyModel` class is created with the following code:"
      ]
    },
    {
      "cell_type": "code",
      "execution_count": 5,
      "metadata": {
        "id": "Mjk8gyrhBiGE"
      },
      "outputs": [],
      "source": [
        "class MoneyModel(mesa.Model):\n",
        "    \"\"\"A model with some number of agents.\"\"\"\n",
        "\n",
        "    def __init__(self, n, seed=None):\n",
        "        super().__init__(seed=seed)\n",
        "        self.num_agents = n\n",
        "        # Create agents\n",
        "        MoneyAgent.create_agents(model=self, n=n)"
      ]
    },
    {
      "cell_type": "markdown",
      "metadata": {
        "id": "HsrUICVLBiGE"
      },
      "source": [
        "### Making the Agents `do`\n",
        "\n",
        "With the basics of the Agent class and Model class created we can now activate the agents to `do` things\n",
        "\n",
        "**Background:** Mesa's `do` function calls agent functions to grow your ABM. A step is the smallest unit of time in the model, and is often referred to as a tick. The `do` function and Python functionality can be configured to activate agents in different orders. This can be important as the order in which agents are activated can impact the results of the model [Comer2014]. At each step of the model, one or more of the agents -- usually all of them -- are activated and take their own step, changing internally and/or interacting with one another or the environment.\n",
        "\n",
        "**Model-specific information:** For this section we will randomly reorder the Agent activation order using  `mesa.Agent.shuffle_do` and have the agents `step` function print the agent's unique id that they were assigned during the agent creation process.\n",
        "\n",
        "**Code implementation:** Using standard ABM convention we add a `step` function to the `MoneyModel` class which calls the `mesa.Agent.shuffle_do` function. We then pass into `shuffle_do` the parameter \"step\". This tells mesa to look for and execute the `step` function in our MoneyAgent class.  "
      ]
    },
    {
      "cell_type": "code",
      "execution_count": 6,
      "metadata": {
        "id": "ebnAwh7vBiGE"
      },
      "outputs": [],
      "source": [
        "class MoneyAgent(mesa.Agent):\n",
        "    \"\"\"An agent with fixed initial wealth.\"\"\"\n",
        "\n",
        "    def __init__(self, model):\n",
        "        # Pass the parameters to the parent class.\n",
        "        super().__init__(model)\n",
        "\n",
        "        # Create the agent's attribute and set the initial values.\n",
        "        self.wealth = 1\n",
        "\n",
        "    def say_hi(self):\n",
        "        # The agent's step will go here.\n",
        "        # For demonstration purposes we will print the agent's unique_id\n",
        "        print(f\"Hi, I am an agent, you can call me {str(self.unique_id)}.\")\n",
        "\n",
        "\n",
        "class MoneyModel(mesa.Model):\n",
        "    \"\"\"A model with some number of agents.\"\"\"\n",
        "\n",
        "    def __init__(self, n, seed=None):\n",
        "        super().__init__(seed=seed)\n",
        "        self.num_agents = n\n",
        "\n",
        "        # Create n agents\n",
        "        MoneyAgent.create_agents(model=self, n=n)\n",
        "\n",
        "    def step(self):\n",
        "        \"\"\"Advance the model by one step.\"\"\"\n",
        "\n",
        "        # This function psuedo-randomly reorders the list of agent objects and\n",
        "        # then iterates through calling the function passed in as the parameter\n",
        "        self.agents.shuffle_do(\"say_hi\")"
      ]
    },
    {
      "cell_type": "markdown",
      "metadata": {
        "id": "LtjY2sj9BiGE"
      },
      "source": [
        "### Running the Model\n",
        "A basic model has now been created. The model can be run by creating a model object and calling the step method. The model will run for one step and print the unique_id of each agent. You may run the model for multiple steps by calling the step method multiple times.\n",
        "\n",
        "note: If you are using `.py` (script) files instead of `.ipynb` (Jupyter), the common convention is\n",
        "to have a `run.py` in the same directory as your model code. You then (1) import the ``MoneyModel`` class,\n",
        "(2) create a model object and (3) run it for a few steps. As shown below:\n",
        "\n",
        "```python\n",
        "from money_model import MoneyModel\n",
        "\n",
        "starter_model = MoneyModel(10)\n",
        "starter_model.step()\n",
        "```\n",
        "Create the model object, and run it for one step:"
      ]
    },
    {
      "cell_type": "code",
      "execution_count": 7,
      "metadata": {
        "id": "tO5qGxeTBiGE",
        "outputId": "5e105747-c9c7-4d77-c5c7-4ee0dfdb86d0",
        "colab": {
          "base_uri": "https://localhost:8080/"
        }
      },
      "outputs": [
        {
          "output_type": "stream",
          "name": "stdout",
          "text": [
            "Hi, I am an agent, you can call me 6.\n",
            "Hi, I am an agent, you can call me 4.\n",
            "Hi, I am an agent, you can call me 8.\n",
            "Hi, I am an agent, you can call me 1.\n",
            "Hi, I am an agent, you can call me 9.\n",
            "Hi, I am an agent, you can call me 3.\n",
            "Hi, I am an agent, you can call me 5.\n",
            "Hi, I am an agent, you can call me 2.\n",
            "Hi, I am an agent, you can call me 10.\n",
            "Hi, I am an agent, you can call me 7.\n"
          ]
        }
      ],
      "source": [
        "starter_model = MoneyModel(10)\n",
        "starter_model.step()"
      ]
    },
    {
      "cell_type": "code",
      "execution_count": 8,
      "metadata": {
        "jupyter": {
          "outputs_hidden": false
        },
        "id": "tMr5rRyhBiGE",
        "outputId": "cef8d177-22b3-44a1-8a32-2a68ecd4894f",
        "colab": {
          "base_uri": "https://localhost:8080/"
        }
      },
      "outputs": [
        {
          "output_type": "stream",
          "name": "stdout",
          "text": [
            "Hi, I am an agent, you can call me 9.\n",
            "Hi, I am an agent, you can call me 1.\n",
            "Hi, I am an agent, you can call me 3.\n",
            "Hi, I am an agent, you can call me 7.\n",
            "Hi, I am an agent, you can call me 2.\n",
            "Hi, I am an agent, you can call me 10.\n",
            "Hi, I am an agent, you can call me 6.\n",
            "Hi, I am an agent, you can call me 4.\n",
            "Hi, I am an agent, you can call me 5.\n",
            "Hi, I am an agent, you can call me 8.\n"
          ]
        }
      ],
      "source": [
        "# Run this step a few times and see what happens! notice the order of the agents changes each time.\n",
        "starter_model.step()"
      ]
    },
    {
      "cell_type": "code",
      "execution_count": null,
      "metadata": {
        "id": "LkN3sSCcBiGE"
      },
      "outputs": [],
      "source": [
        "# Challenge: Change the seed from None to a number like 42 and see the impact"
      ]
    },
    {
      "cell_type": "code",
      "execution_count": null,
      "metadata": {
        "id": "tWmrUKHVBiGF"
      },
      "outputs": [],
      "source": [
        "# Challenge: Change `shuffle_do` to just `do` and see the impact"
      ]
    },
    {
      "cell_type": "markdown",
      "metadata": {
        "id": "68wrOQqMBiGF"
      },
      "source": [
        "### Exercise\n",
        "Modifying the code below to have every agent print out its `wealth` when it is activated."
      ]
    },
    {
      "cell_type": "code",
      "execution_count": 9,
      "metadata": {
        "jupyter": {
          "outputs_hidden": false
        },
        "id": "ZzYdrlaCBiGF"
      },
      "outputs": [],
      "source": [
        "class MoneyAgent(mesa.Agent):\n",
        "    \"\"\"An agent with fixed initial wealth.\"\"\"\n",
        "\n",
        "    def __init__(self, model):\n",
        "        # Pass the parameters to the parent class.\n",
        "        super().__init__(model)\n",
        "\n",
        "        # Create the agent's variable and set the initial values.\n",
        "        self.wealth = 1\n",
        "\n",
        "    def say_wealth(self):\n",
        "        # The agent's step will go here.\n",
        "        # FIXME: need to print the agent's wealth\n",
        "        print(f\"Hi, I am an agent and I am broke!\")"
      ]
    },
    {
      "cell_type": "markdown",
      "metadata": {
        "id": "A-ZWNqxlBiGF"
      },
      "source": [
        "Create a model for 12 Agents, and run it for a few steps to see the output."
      ]
    },
    {
      "cell_type": "code",
      "execution_count": null,
      "metadata": {
        "jupyter": {
          "outputs_hidden": false
        },
        "id": "7lryhyr7BiGF"
      },
      "outputs": [],
      "source": [
        "# Fixme: Create the model object, and run it"
      ]
    },
    {
      "cell_type": "markdown",
      "metadata": {
        "id": "wD5Pp18ABiGF"
      },
      "source": [
        "### Agents Exchange\n",
        "\n",
        "Returning back to the MoneyAgent the actual exchange process is now going to be created.\n",
        "\n",
        "**Background:** This is where the agent's behavior as it relates to each step or tick of the model is defined.\n",
        "\n",
        "**Model-specific information:** In this case, the agent will check its wealth, and if it has money, give one unit of it away to another random agent.\n",
        "\n",
        "**Code implementation:** The agent's step method is called by `mesa.Agent.shuffle_do(\"exchange\")`during each step of the model. To allow the agent to choose another agent at random, we use the `model.random` random-number generator. This works just like Python's `random` module, but if a fixed seed set is set when the model is instantiated (see earlier challenge), this allows users to replicate a specific model run later. Once we identify this other agent object we increase their wealth by 1 and decrease this agents wealth by one.\n",
        "\n",
        "This updates the step function as shown below"
      ]
    },
    {
      "cell_type": "code",
      "execution_count": null,
      "metadata": {
        "id": "BwYx5JHKBiGG"
      },
      "outputs": [],
      "source": [
        "class MoneyAgent(mesa.Agent):\n",
        "    \"\"\"An agent with fixed initial wealth.\"\"\"\n",
        "\n",
        "    def __init__(self, model):\n",
        "        # Pass the parameters to the parent class.\n",
        "        super().__init__(model)\n",
        "\n",
        "        # Create the agent's variable and set the initial values.\n",
        "        self.wealth = 1\n",
        "\n",
        "    def exchange(self):\n",
        "        # Verify agent has some wealth\n",
        "        if self.wealth > 0:\n",
        "            other_agent = self.random.choice(self.model.agents)\n",
        "            if other_agent is not None:\n",
        "                other_agent.wealth += 1\n",
        "                self.wealth -= 1\n",
        "\n",
        "\n",
        "class MoneyModel(mesa.Model):\n",
        "    \"\"\"A model with some number of agents.\"\"\"\n",
        "\n",
        "    def __init__(self, n):\n",
        "        super().__init__()\n",
        "        self.num_agents = n\n",
        "\n",
        "        # Create agents\n",
        "        MoneyAgent.create_agents(model=self, n=n)\n",
        "\n",
        "    def step(self):\n",
        "        \"\"\"Advance the model by one step.\"\"\"\n",
        "\n",
        "        # This function psuedo-randomly reorders the list of agent objects and\n",
        "        # then iterates through calling the function passed in as the parameter\n",
        "        self.agents.shuffle_do(\"exchange\")"
      ]
    },
    {
      "cell_type": "markdown",
      "metadata": {
        "id": "1ilvTCU1BiGG"
      },
      "source": [
        "### Running your first model\n",
        "\n",
        "With that last piece in hand, it's time for the first rudimentary run of the model.\n",
        "\n",
        "If you've written the code in its own script file (`money_model.py` or a different name) you can now modify your ``run.py`` or even launch a Jupyter notebook. You then just follow the same three steps of (1) import your model class ``MoneyModel``, (2) create the model object and (3) run it for a few steps. If you wrote the code in one notebook then step 1, importing, is not necessary.\n",
        "\n",
        "```python\n",
        "from money_model import MoneyModel\n",
        "```\n",
        "\n",
        "now let's create a model with 10 agents, and run it for 30 steps."
      ]
    },
    {
      "cell_type": "code",
      "execution_count": null,
      "metadata": {
        "id": "GExxMb7FBiGG"
      },
      "outputs": [],
      "source": [
        "model = MoneyModel(10)  # Tells the model to create 10 agents\n",
        "for _ in range(\n",
        "    30\n",
        "):  # Runs the model for 10 steps; an underscore is common convention for a variable that is not used\n",
        "    model.step()"
      ]
    },
    {
      "cell_type": "markdown",
      "metadata": {
        "id": "wsKzrD9ABiGG"
      },
      "source": [
        "next, we need to get some data out of the model. Specifically, we want to see the distribution of the agent's wealth. We can get the wealth values with list comprehension, and then use seaborn (or another graphics library) to visualize the data in a histogram."
      ]
    },
    {
      "cell_type": "code",
      "execution_count": null,
      "metadata": {
        "id": "ypRTPTqNBiGG"
      },
      "outputs": [],
      "source": [
        "agent_wealth = [a.wealth for a in model.agents]\n",
        "# Create a histogram with seaborn\n",
        "g = sns.histplot(agent_wealth, discrete=True)\n",
        "g.set(\n",
        "    title=\"Wealth distribution\", xlabel=\"Wealth\", ylabel=\"number of agents\"\n",
        ");  # The semicolon is just to avoid printing the object representation"
      ]
    },
    {
      "cell_type": "markdown",
      "metadata": {
        "id": "-4b3oYBZBiGG"
      },
      "source": [
        "To get a better idea of how a model behaves, we can create multiple model runs and see the distribution that emerges from all of them. We can do this with a nested for loop:"
      ]
    },
    {
      "cell_type": "code",
      "execution_count": null,
      "metadata": {
        "id": "JSTdzYIhBiGG"
      },
      "outputs": [],
      "source": [
        "all_wealth = []\n",
        "# This runs the model 100 times, each model executing 10 steps.\n",
        "for _ in range(100):\n",
        "    # Run the model\n",
        "    model = MoneyModel(10)\n",
        "    for _ in range(30):\n",
        "        model.step()\n",
        "\n",
        "    # Store the results\n",
        "    for agent in model.agents:\n",
        "        all_wealth.append(agent.wealth)\n",
        "\n",
        "# Use seaborn\n",
        "g = sns.histplot(all_wealth, discrete=True)\n",
        "g.set(title=\"Wealth distribution\", xlabel=\"Wealth\", ylabel=\"number of agents\");"
      ]
    },
    {
      "cell_type": "markdown",
      "metadata": {
        "id": "Al4i-VrpBiGH"
      },
      "source": [
        "This runs 100 instantiations of the model, and runs each for 30 steps. (notice that we set the histogram bins to be integers, since agents can only have whole numbers of wealth). This distribution looks a lot smoother. By running the model 100 times, we smooth out some of the 'noise' of randomness, and get to the model's overall expected behavior.\n",
        "\n",
        "This outcome might be surprising. Despite the fact that all agents, on average, give and receive one unit of money every step, the model converges to a state where most agents have a small amount of money and a small number have a lot of money."
      ]
    },
    {
      "cell_type": "markdown",
      "metadata": {
        "id": "7dDB95fABiGH"
      },
      "source": [
        "## Adding space\n",
        "\n",
        "**Background:** Many ABMs have a spatial element, with agents moving around and interacting with nearby neighbors. Mesa has several types of [spaces](https://mesa.readthedocs.io/latest/apis/space.html) from different types of grids to networks to an in development [cell_space](https://mesa.readthedocs.io/latest/apis/experimental.html#module-experimental.cell_space.__init__). Mesa grids are divided into cells, and agents can only be on a particular cell, like pieces on a chess board. Continuous space, in contrast, allows agents to have any arbitrary position. (Think of grids vs continuous space like the difference between integers and decimals).\n",
        "\n",
        "Both grids and continuous spaces are frequently [toroidal](https://en.wikipedia.org/wiki/Toroidal_graph), meaning that the edges wrap around, with cells on the right edge connected to those on the left edge, and the top to the bottom. This prevents some cells having fewer neighbors than others, or agents being able to go off the edge of the environment. You can envision a torous by thinking of donut.\n",
        "\n",
        "Mesa has two main types of grids: `SingleGrid` and `MultiGrid`. `SingleGrid` enforces at most one agent per cell; `MultiGrid` allows multiple agents to be in the same cell. We are going to use `MultiGrid` and then only exchange money with agents in the same cell.\n",
        "\n",
        "**Model-specific information:** Let's add a simple spatial element to our model by putting our agents on a grid and make them walk around at random. Instead of giving their unit of money to any random agent, they'll give it to an agent on the same cell. For the Money model multiple agents can be in the same spaces and since they are on a torus the agents on the left side can exchange money with agent on the right. Agents on the top can exchange with agents on the bottom.\n",
        "\n",
        "**Code Implementation:** We get a random integer within the width and height of the grid space and the use Mesa's multigrid `place_agent` function to place the agent in the specified grid location."
      ]
    },
    {
      "cell_type": "markdown",
      "metadata": {
        "id": "Gj8mvZKIBiGH"
      },
      "source": [
        "We instantiate a grid with width and height parameters, and a boolean as to whether the grid is toroidal. Let's make width and height model parameters, in addition to the number of agents, and have the grid always be toroidal. We can place agents on a grid with the grid's `place_agent` method, which takes an agent and an (x, y) tuple of the coordinates to place the agent."
      ]
    },
    {
      "cell_type": "code",
      "execution_count": null,
      "metadata": {
        "id": "P6qOY2UNBiGH"
      },
      "outputs": [],
      "source": [
        "class MoneyModel(mesa.Model):\n",
        "    \"\"\"A model with some number of agents.\"\"\"\n",
        "\n",
        "    def __init__(self, n, width, height, seed=None):\n",
        "        super().__init__(seed=seed)\n",
        "        self.num_agents = n\n",
        "        self.grid = mesa.space.MultiGrid(width, height, True)\n",
        "\n",
        "        # Create agents\n",
        "        agents = MoneyAgent.create_agents(model=self, n=n)\n",
        "        # Create x and y positions for agents\n",
        "        x = self.rng.randint(0, self.grid.width, size=(n,))\n",
        "        y = self.rng.randint(0, self.grid.height, size=(n,))\n",
        "        for a, i, j in zip(agents, x, y):\n",
        "            # Add the agent to a random grid cell\n",
        "            self.grid.place_agent(a, (i, j))"
      ]
    },
    {
      "cell_type": "markdown",
      "metadata": {
        "id": "8BGy1nLoBiGH"
      },
      "source": [
        "#### Moving in Mesa\n",
        "\n",
        "Under the hood, each agent's position is stored in two ways: the agent is contained in the grid in the cell it is currently in, and the agent has a `pos` variable with an (x, y) coordinate tuple. The `place_agent` method adds the coordinate to the agent automatically.\n",
        "\n",
        "Now we need to add to the agents' behaviors, letting them move around and only give money to other agents in the same cell.\n",
        "\n",
        "First let's handle movement, and have the agents move to a neighboring cell. The grid object provides a `move_agent` method, which like you'd imagine, moves an agent to a given cell. That still leaves us to get the possible neighboring cells to move to. There are a couple ways to do this. One is to use the current coordinates, and loop over all coordinates +/- 1 away from it. For example:\n",
        "\n",
        "```python\n",
        "neighbors = []\n",
        "x, y = self.pos\n",
        "for dx in [-1, 0, 1]:\n",
        "    for dy in [-1, 0, 1]:\n",
        "        neighbors.append((x+dx, y+dy))\n",
        "```\n",
        "\n",
        "But there's an even simpler way, using the grid's built-in `get_neighborhood` method, which returns all the neighbors of a given cell. This method can get two types of cell neighborhoods: [Moore](https://en.wikipedia.org/wiki/Moore_neighborhood) (includes all 8 surrounding squares), and [Von neumann](https://en.wikipedia.org/wiki/Von_neumann_neighborhood)(only up/down/left/right). It also needs an argument as to whether to include the center cell itself as one of the neighbors.\n",
        "\n",
        "With that in mind, the agent's `move` method looks like this:\n",
        "\n",
        "```python\n",
        "class MoneyAgent(mesa.Agent):\n",
        "   #...\n",
        "    def move(self):\n",
        "        possible_steps = self.model.grid.get_neighborhood(\n",
        "            self.pos,\n",
        "            moore=True,\n",
        "            include_center=False)\n",
        "        new_position = self.random.choice(possible_steps)\n",
        "        self.model.grid.move_agent(self, new_position)\n",
        "```\n",
        "\n",
        "Next, we need to get all the other agents present in a cell, and give one of them some money. We can get the contents of one or more cells using the grid's `get_cell_list_contents` method, or by accessing a cell directly. The method accepts a list of cell coordinate tuples, or a single tuple if we only care about one cell.\n",
        "\n",
        "```python\n",
        "class MoneyAgent(mesa.Agent):\n",
        "    #...\n",
        "    def give_money(self):\n",
        "        cellmates = self.model.grid.get_cell_list_contents([self.pos])\n",
        "        # Ensure agent is not giving money to itself\n",
        "        cellmates.pop(\n",
        "            cellmates.index(self)\n",
        "        )\n",
        "        if len(cellmates) > 0:\n",
        "            other = self.random.choice(cellmates)\n",
        "            other.wealth += 1\n",
        "            self.wealth -= 1\n",
        "```\n",
        "\n",
        "Now, putting that all together should look like this:"
      ]
    },
    {
      "cell_type": "code",
      "execution_count": null,
      "metadata": {
        "id": "9Is45ijSBiGH"
      },
      "outputs": [],
      "source": [
        "class MoneyAgent(mesa.Agent):\n",
        "    \"\"\"An agent with fixed initial wealth.\"\"\"\n",
        "\n",
        "    def __init__(self, model):\n",
        "        super().__init__(model)\n",
        "        self.wealth = 1\n",
        "\n",
        "    def move(self):\n",
        "        possible_steps = self.model.grid.get_neighborhood(\n",
        "            self.pos, moore=True, include_center=False\n",
        "        )\n",
        "        new_position = self.random.choice(possible_steps)\n",
        "        self.model.grid.move_agent(self, new_position)\n",
        "\n",
        "    def give_money(self):\n",
        "        cellmates = self.model.grid.get_cell_list_contents([self.pos])\n",
        "        # Ensure agent is not giving money to itself\n",
        "        cellmates.pop(cellmates.index(self))\n",
        "        if len(cellmates) > 0:\n",
        "            other_agent = self.random.choice(cellmates)\n",
        "            other_agent.wealth += 1\n",
        "            self.wealth -= 1\n",
        "\n",
        "\n",
        "class MoneyModel(mesa.Model):\n",
        "    \"\"\"A model with some number of agents.\"\"\"\n",
        "\n",
        "    def __init__(self, n, width, height, seed=None):\n",
        "        super().__init__(seed=seed)\n",
        "        self.num_agents = n\n",
        "        self.grid = mesa.space.MultiGrid(width, height, True)\n",
        "\n",
        "        # Create agents\n",
        "        agents = MoneyAgent.create_agents(model=self, n=n)\n",
        "        # Create x and y coordinates for agents\n",
        "        x = self.rng.integers(0, self.grid.width, size=(n,))\n",
        "        y = self.rng.integers(0, self.grid.height, size=(n,))\n",
        "        for a, i, j in zip(agents, x, y):\n",
        "            # Add the agent to a random grid cell\n",
        "            self.grid.place_agent(a, (i, j))\n",
        "\n",
        "    def step(self):\n",
        "        self.agents.shuffle_do(\"move\")\n",
        "        self.agents.do(\"give_money\")"
      ]
    },
    {
      "cell_type": "markdown",
      "metadata": {
        "id": "Q01GU9KlBiGK"
      },
      "source": [
        "Let's create a model with 100 agents on a 10x10 grid, and run it for 20 steps."
      ]
    },
    {
      "cell_type": "code",
      "execution_count": null,
      "metadata": {
        "id": "ikN9B8_ZBiGL"
      },
      "outputs": [],
      "source": [
        "model = MoneyModel(100, 10, 10)\n",
        "for _ in range(20):\n",
        "    model.step()"
      ]
    },
    {
      "cell_type": "markdown",
      "metadata": {
        "id": "5p50oSCeBiGL"
      },
      "source": [
        "now let's use seaborn and numpy to visualize the number of agents residing in each cell. To do that, we create a numpy array of the same size as the grid, filled with zeros. Then we use the grid object's `coord_iter()` feature, which lets us loop over every cell in the grid, giving us each cell's positions and contents in turn."
      ]
    },
    {
      "cell_type": "code",
      "execution_count": null,
      "metadata": {
        "id": "15QhWeXgBiGL"
      },
      "outputs": [],
      "source": [
        "agent_counts = np.zeros((model.grid.width, model.grid.height))\n",
        "for cell_content, (x, y) in model.grid.coord_iter():\n",
        "    agent_count = len(cell_content)\n",
        "    agent_counts[x][y] = agent_count\n",
        "# Plot using seaborn, with a visual size of 5x5\n",
        "g = sns.heatmap(agent_counts, cmap=\"viridis\", annot=True, cbar=False, square=True)\n",
        "g.figure.set_size_inches(5, 5)\n",
        "g.set(title=\"number of agents on each cell of the grid\");"
      ]
    },
    {
      "cell_type": "code",
      "execution_count": null,
      "metadata": {
        "id": "sicgyfcsBiGM"
      },
      "outputs": [],
      "source": [
        "# Challenge: Change the size of the grid"
      ]
    },
    {
      "cell_type": "code",
      "execution_count": null,
      "metadata": {
        "id": "1YpWyQ96BiGN"
      },
      "outputs": [],
      "source": [
        "# Challenge: Change from multigrid to grid (only one agent per cell)"
      ]
    },
    {
      "cell_type": "markdown",
      "metadata": {
        "id": "PWhj-E96BiGN"
      },
      "source": [
        "## Collecting Data\n",
        "\n",
        "**Background:** So far, at the end of every model run, we've had to go and write our own code to get the data out of the model. This has two problems: it isn't very efficient, and it only gives us end results. If we wanted to know the wealth of each agent at each step, we'd have to add that to the loop of executing steps, and figure out some way to store the data.\n",
        "\n",
        "Since one of the main goals of agent-based modeling is generating data for analysis, Mesa provides a class which can handle data collection and storage for us and make it easier to analyze.\n",
        "\n",
        "The data collector stores three categories of data:\n",
        " - Model-level variables : Model-level collection functions take a model object as an input. Such as a function that computes a dynamic of the whole model (in this case we will compute a measure of wealth inequality based on all agent's wealth)\n",
        " - Agent-level variables: Agent-level collection functions take an agent object as an input and is typically the state of an agent attributes, in this case wealth.\n",
        " - Tables (which are a catch-all for everything else).\n",
        "\n",
        "**Model-specific information:** We will collect two variables to show Mesa capabilities. At the model level, let's measure the model's [Gini Coefficient](https://en.wikipedia.org/wiki/Gini_coefficient), a measure of wealth inequality. At the agent level, we want to collect every agent's wealth at every step.\n",
        "\n",
        "**Code implementation:**\n",
        "Let's add a DataCollector to the model with [`mesa.DataCollector`](https://github.com/projectmesa/mesa/blob/main/mesa/datacollection.py), and collect the agent's wealth and the gini coefficient at each time step."
      ]
    },
    {
      "cell_type": "code",
      "execution_count": null,
      "metadata": {
        "id": "nQnM3zQpBiGN"
      },
      "outputs": [],
      "source": [
        "def compute_gini(model):\n",
        "    agent_wealths = [agent.wealth for agent in model.agents]\n",
        "    x = sorted(agent_wealths)\n",
        "    n = model.num_agents\n",
        "    B = sum(xi * (n - i) for i, xi in enumerate(x)) / (n * sum(x))\n",
        "    return 1 + (1 / n) - 2 * B\n",
        "\n",
        "\n",
        "class MoneyAgent(mesa.Agent):\n",
        "    \"\"\"An agent with fixed initial wealth.\"\"\"\n",
        "\n",
        "    def __init__(self, model):\n",
        "        super().__init__(model)\n",
        "        self.wealth = 1\n",
        "\n",
        "    def move(self):\n",
        "        possible_steps = self.model.grid.get_neighborhood(\n",
        "            self.pos, moore=True, include_center=False\n",
        "        )\n",
        "        new_position = self.random.choice(possible_steps)\n",
        "        self.model.grid.move_agent(self, new_position)\n",
        "\n",
        "    def give_money(self):\n",
        "        cellmates = self.model.grid.get_cell_list_contents([self.pos])\n",
        "        # Ensure agent is not giving money to itself\n",
        "        cellmates.pop(cellmates.index(self))\n",
        "        if len(cellmates) > 0:\n",
        "            other = self.random.choice(cellmates)\n",
        "            other.wealth += 1\n",
        "            self.wealth -= 1\n",
        "\n",
        "\n",
        "class MoneyModel(mesa.Model):\n",
        "    \"\"\"A model with some number of agents.\"\"\"\n",
        "\n",
        "    def __init__(self, n, width, height):\n",
        "        super().__init__()\n",
        "        self.num_agents = n\n",
        "        # create the space\n",
        "        self.grid = mesa.space.MultiGrid(width, height, True)\n",
        "        # collect the output\n",
        "        self.datacollector = mesa.DataCollector(\n",
        "            model_reporters={\"Gini\": compute_gini}, agent_reporters={\"Wealth\": \"wealth\"}\n",
        "        )\n",
        "\n",
        "        # Create agents\n",
        "        agents = MoneyAgent.create_agents(model=self, n=n)\n",
        "        # Create x and y positions for agents\n",
        "        x = self.rng.integers(0, self.grid.width, size=(n,))\n",
        "        y = self.rng.integers(0, self.grid.height, size=(n,))\n",
        "        for a, i, j in zip(agents, x, y):\n",
        "            # Add the agent to a random grid cell\n",
        "            self.grid.place_agent(a, (i, j))\n",
        "\n",
        "    def step(self):\n",
        "        self.datacollector.collect(self)\n",
        "        self.agents.shuffle_do(\"move\")\n",
        "        self.agents.do(\"give_money\")"
      ]
    },
    {
      "cell_type": "markdown",
      "metadata": {
        "id": "j9KyJ9JeBiGN"
      },
      "source": [
        "At every step of the model, the datacollector will collect and store the model-level current Gini coefficient, as well as each agent's wealth, associating each with the current step.\n",
        "\n",
        "We run the model just as we did above. Now is when an interactive session, especially via a notebook, comes in handy: the DataCollector can export the data it has collected as a pandas* DataFrame, for easy and interactive analysis.\n",
        "\n",
        "*If you are new to Python, please be aware that pandas is already installed as a dependency of Mesa and that [pandas](https://pandas.pydata.org/docs/) is a \"fast, powerful, flexible and easy to use open source data analysis and manipulation tool\". Pandas is a great resource to help analyze the data collected in your models."
      ]
    },
    {
      "cell_type": "code",
      "execution_count": null,
      "metadata": {
        "id": "bGBFqZPMBiGO"
      },
      "outputs": [],
      "source": [
        "model = MoneyModel(100, 10, 10)\n",
        "for _ in range(100):\n",
        "    model.step()"
      ]
    },
    {
      "cell_type": "markdown",
      "metadata": {
        "id": "9lIg9p6HBiGO"
      },
      "source": [
        "To get the series of Gini coefficients as a pandas DataFrame:"
      ]
    },
    {
      "cell_type": "markdown",
      "metadata": {
        "id": "FScqtiG9BiGO"
      },
      "source": [
        "### Visualizing a Model Data"
      ]
    },
    {
      "cell_type": "code",
      "execution_count": null,
      "metadata": {
        "id": "gZweQEO-BiGO"
      },
      "outputs": [],
      "source": [
        "gini = model.datacollector.get_model_vars_dataframe()\n",
        "# Plot the Gini coefficient over time\n",
        "g = sns.lineplot(data=gini)\n",
        "g.set(title=\"Gini Coefficient over Time\", ylabel=\"Gini Coefficient\");"
      ]
    },
    {
      "cell_type": "markdown",
      "metadata": {
        "id": "gRJ8Px_PBiGO"
      },
      "source": [
        "### Visualizing an Agent Data"
      ]
    },
    {
      "cell_type": "markdown",
      "metadata": {
        "id": "gCTXlhwKBiGO"
      },
      "source": [
        "Similarly, we can get the agent-wealth data:"
      ]
    },
    {
      "cell_type": "code",
      "execution_count": null,
      "metadata": {
        "id": "BRd0W8XnBiGP"
      },
      "outputs": [],
      "source": [
        "agent_wealth = model.datacollector.get_agent_vars_dataframe()\n",
        "agent_wealth.head()"
      ]
    },
    {
      "cell_type": "markdown",
      "metadata": {
        "id": "mJ-Y9ZQnBiGP"
      },
      "source": [
        "You'll see that the DataFrame's index is pairings of model step and agent ID. This is because the data collector stores the data in a dictionary, with the step number as the key, and a dictionary of agent ID and variable value pairs as the value. The data collector then converts this dictionary into a DataFrame, which is why the index is a pair of (model step, agent ID). You can analyze it the way you would any other DataFrame. For example, to get a histogram of agent wealth at the model's end:"
      ]
    },
    {
      "cell_type": "code",
      "execution_count": null,
      "metadata": {
        "id": "mIzSaRQ_BiGP"
      },
      "outputs": [],
      "source": [
        "last_step = agent_wealth.index.get_level_values(\"Step\").max()\n",
        "end_wealth = agent_wealth.xs(last_step, level=\"Step\")[\"Wealth\"]\n",
        "# Create a histogram of wealth at the last step\n",
        "g = sns.histplot(end_wealth, discrete=True)\n",
        "g.set(\n",
        "    title=\"Distribution of wealth at the end of simulation\",\n",
        "    xlabel=\"Wealth\",\n",
        "    ylabel=\"number of agents\",\n",
        ");"
      ]
    },
    {
      "cell_type": "markdown",
      "metadata": {
        "id": "ftO_7ZE-BiGP"
      },
      "source": [
        "Or to plot the wealth of a given agent (in this example, agent 7):"
      ]
    },
    {
      "cell_type": "code",
      "execution_count": null,
      "metadata": {
        "id": "fI5ah8ZkBiGP"
      },
      "outputs": [],
      "source": [
        "# Get the wealth of agent 7 over time\n",
        "one_agent_wealth = agent_wealth.xs(7, level=\"AgentID\")\n",
        "\n",
        "# Plot the wealth of agent 7 over time\n",
        "g = sns.lineplot(data=one_agent_wealth, x=\"Step\", y=\"Wealth\")\n",
        "g.set(title=\"Wealth of agent 7 over time\");"
      ]
    },
    {
      "cell_type": "markdown",
      "metadata": {
        "id": "oPH5DP3CBiGP"
      },
      "source": [
        "You can also plot a reporter of multiple agents over time."
      ]
    },
    {
      "cell_type": "code",
      "execution_count": null,
      "metadata": {
        "id": "j_ywqIOpBiGP"
      },
      "outputs": [],
      "source": [
        "agent_list = [3, 14, 25]\n",
        "\n",
        "# Get the wealth of multiple agents over time\n",
        "multiple_agents_wealth = agent_wealth[\n",
        "    agent_wealth.index.get_level_values(\"AgentID\").isin(agent_list)\n",
        "]\n",
        "# Plot the wealth of multiple agents over time\n",
        "g = sns.lineplot(data=multiple_agents_wealth, x=\"Step\", y=\"Wealth\", hue=\"AgentID\")\n",
        "g.set(title=\"Wealth of agents 3, 14 and 25 over time\");"
      ]
    },
    {
      "cell_type": "markdown",
      "metadata": {
        "id": "0n1FBB5JBiGQ"
      },
      "source": [
        "We can also plot the average of all agents, with a 95% confidence interval for that average."
      ]
    },
    {
      "cell_type": "code",
      "execution_count": null,
      "metadata": {
        "id": "9BlwbcSDBiGQ"
      },
      "outputs": [],
      "source": [
        "# Transform the data to a long format\n",
        "agent_wealth_long = agent_wealth.T.unstack().reset_index()\n",
        "agent_wealth_long.columns = [\"Step\", \"AgentID\", \"Variable\", \"Value\"]\n",
        "agent_wealth_long.head(3)\n",
        "\n",
        "# Plot the average wealth over time\n",
        "g = sns.lineplot(data=agent_wealth_long, x=\"Step\", y=\"Value\", errorbar=(\"ci\", 95))\n",
        "g.set(title=\"Average wealth over time\")"
      ]
    },
    {
      "cell_type": "markdown",
      "metadata": {
        "id": "zHUuLZoWBiGQ"
      },
      "source": [
        "Which is exactly 1, as expected in this model, since each agent starts with one wealth unit, and each agent gives one wealth unit to another agent at each step."
      ]
    },
    {
      "cell_type": "markdown",
      "metadata": {
        "id": "0a-s6NWVBiGQ"
      },
      "source": [
        "You can also use pandas to export the data to a CSV (comma separated value) file, which can be opened by any common spreadsheet application or opened by pandas.\n",
        "\n",
        "If you do not specify a file path, the file will be saved in the local directory. After you run the code below you will see two files appear (*model_data.csv* and *agent_data.csv*)"
      ]
    },
    {
      "cell_type": "code",
      "execution_count": null,
      "metadata": {
        "id": "A3_888FFBiGQ"
      },
      "outputs": [],
      "source": [
        "# save the model data (stored in the pandas gini object) to CSV\n",
        "gini.to_csv(\"model_data.csv\")\n",
        "\n",
        "# save the agent data (stored in the pandas agent_wealth object) to CSV\n",
        "agent_wealth.to_csv(\"agent_data.csv\")"
      ]
    },
    {
      "cell_type": "markdown",
      "metadata": {
        "id": "IA746JJUBiGQ"
      },
      "source": [
        "## AgentSet Functionality\n",
        "\n",
        "**Background:** With Mesa's AgentSet approach users can also [manage agents](https://mesa.readthedocs.io/latest/overview.html#agentset-and-model-agents) in several ways.\n",
        "\n",
        "**Model-specific information:** We will show three agent management techniques just to demonstrate the capability\n",
        "1. **Applying Methods** We will shuffle the agents and move them and then have them exchange money without reordering them\n",
        "2. **Selecting** We will institute a policy that has the rich agents give money to the  poor agents\n",
        "3. **GroupBy** We will group agents together based on wealth"
      ]
    },
    {
      "cell_type": "markdown",
      "metadata": {
        "id": "xhTkqmr8BiGQ"
      },
      "source": [
        "### Applying Methods\n",
        "\n",
        "**Code Implementation** In this variation we accomplish the same process using the AgentSet features. We remove the step function entirely, shuffle the agent order have them execute the `move` function. Then we have them execute the `give_money` function to get a similar result as we saw in the Adding Space Section."
      ]
    },
    {
      "cell_type": "code",
      "execution_count": null,
      "metadata": {
        "id": "O7mxR_-ABiGQ"
      },
      "outputs": [],
      "source": [
        "class MoneyAgent(mesa.Agent):\n",
        "    \"\"\"An agent with fixed initial wealth.\"\"\"\n",
        "\n",
        "    def __init__(self, model):\n",
        "        super().__init__(model)\n",
        "        self.wealth = 1\n",
        "\n",
        "    def move(self):\n",
        "        possible_steps = self.model.grid.get_neighborhood(\n",
        "            self.pos, moore=True, include_center=False\n",
        "        )\n",
        "        new_position = self.random.choice(possible_steps)\n",
        "        self.model.grid.move_agent(self, new_position)\n",
        "\n",
        "    def give_money(self):\n",
        "        if self.wealth > 0:\n",
        "            cellmates = self.model.grid.get_cell_list_contents([self.pos])\n",
        "            # Ensure agent is not giving money to itself\n",
        "            cellmates.pop(cellmates.index(self))\n",
        "            if len(cellmates) > 0:\n",
        "                other_agent = self.random.choice(cellmates)\n",
        "                other_agent.wealth += 1\n",
        "                self.wealth -= 1\n",
        "\n",
        "\n",
        "class MoneyModel(mesa.Model):\n",
        "    \"\"\"A model with some number of agents.\"\"\"\n",
        "\n",
        "    def __init__(self, n, width, height, seed=None):\n",
        "        super().__init__(seed=seed)\n",
        "        self.num_agents = n\n",
        "        self.grid = mesa.space.MultiGrid(width, height, True)\n",
        "\n",
        "        # Create agents\n",
        "        agents = MoneyAgent.create_agents(model=self, n=n)\n",
        "        # Create x and y positions for agents\n",
        "        x = self.rng.integers(0, self.grid.width, size=(n,))\n",
        "        y = self.rng.integers(0, self.grid.height, size=(n,))\n",
        "        for a, i, j in zip(agents, x, y):\n",
        "            # Add the agent to a random grid cell\n",
        "            self.grid.place_agent(a, (i, j))\n",
        "\n",
        "        self.datacollector = mesa.DataCollector(\n",
        "            model_reporters={\"Gini\": compute_gini}, agent_reporters={\"Wealth\": \"wealth\"}\n",
        "        )\n",
        "\n",
        "    def step(self):\n",
        "        self.datacollector.collect(self)\n",
        "        self.agents.shuffle_do(\"move\")\n",
        "        self.agents.do(\"give_money\")"
      ]
    },
    {
      "cell_type": "markdown",
      "metadata": {
        "id": "TfuYiF5gBiGR"
      },
      "source": [
        "Then we set up our model object and run it for 20 steps"
      ]
    },
    {
      "cell_type": "code",
      "execution_count": null,
      "metadata": {
        "id": "YOrmLKQABiGR"
      },
      "outputs": [],
      "source": [
        "model = MoneyModel(100, 10, 10)\n",
        "for _ in range(20):\n",
        "    model.step()"
      ]
    },
    {
      "cell_type": "markdown",
      "metadata": {
        "id": "rD712SgDBiGR"
      },
      "source": [
        "Then we plot our model result on the grid"
      ]
    },
    {
      "cell_type": "code",
      "execution_count": null,
      "metadata": {
        "id": "VlA2slq5BiGR"
      },
      "outputs": [],
      "source": [
        "agent_counts = np.zeros((model.grid.width, model.grid.height))\n",
        "for cell_content, (x, y) in model.grid.coord_iter():\n",
        "    agent_count = len(cell_content)\n",
        "    agent_counts[x][y] = agent_count\n",
        "# Plot using seaborn, with a visual size of 5x5\n",
        "g = sns.heatmap(agent_counts, cmap=\"viridis\", annot=True, cbar=False, square=True)\n",
        "g.figure.set_size_inches(5, 5)\n",
        "g.set(title=\"Number of agents on each cell of the grid\");"
      ]
    },
    {
      "cell_type": "markdown",
      "metadata": {
        "id": "qqgnNar5BiGR"
      },
      "source": [
        "### Selecting\n",
        "\n",
        "**Model-specific Information:** For this variation of the model we are going to institute a policy that rich agents give money to poor agent\n",
        "\n",
        "**Code Implementation:** We will use `agents.select` to separate the agents into rich and poor agents. If there are rich agents then they are the only ones who give money."
      ]
    },
    {
      "cell_type": "code",
      "execution_count": null,
      "metadata": {
        "id": "IzuLc-HABiGR"
      },
      "outputs": [],
      "source": [
        "class MoneyAgent(mesa.Agent):\n",
        "    \"\"\"An agent with fixed initial wealth.\"\"\"\n",
        "\n",
        "    def __init__(self, model):\n",
        "        super().__init__(model)\n",
        "        self.wealth = 1\n",
        "\n",
        "    def give_money(self, poor_agents):\n",
        "        if self.wealth > 0:\n",
        "            other_agent = self.random.choice(poor_agents)\n",
        "            other_agent.wealth += 1\n",
        "            self.wealth -= 1\n",
        "\n",
        "\n",
        "class MoneyModel(mesa.Model):\n",
        "    \"\"\"A model with some number of agents.\"\"\"\n",
        "\n",
        "    def __init__(self, n):\n",
        "        super().__init__()\n",
        "        self.num_agents = n\n",
        "\n",
        "        # Create agents\n",
        "        MoneyAgent.create_agents(model=self, n=n)\n",
        "\n",
        "        self.datacollector = mesa.DataCollector(\n",
        "            model_reporters={\"Gini\": compute_gini}, agent_reporters={\"Wealth\": \"wealth\"}\n",
        "        )\n",
        "\n",
        "    def step(self):\n",
        "        self.datacollector.collect(self)\n",
        "        # Get lists of rich and poor agents\n",
        "        rich_agents = model.agents.select(lambda a: a.wealth >= 3)\n",
        "        poor_agents = model.agents.select(lambda a: a.wealth < 3)\n",
        "        # When there is rich agents only have them give money to the poor agents\n",
        "        if len(rich_agents) > 0:\n",
        "            rich_agents.shuffle_do(\"give_money\", poor_agents)\n",
        "        else:\n",
        "            poor_agents.shuffle_do(\"give_money\", poor_agents)"
      ]
    },
    {
      "cell_type": "markdown",
      "metadata": {
        "id": "Tg61L0IiBiGS"
      },
      "source": [
        "We now run the model, collect the data, and plot the results."
      ]
    },
    {
      "cell_type": "code",
      "execution_count": null,
      "metadata": {
        "id": "3ZrvVU0FBiGS"
      },
      "outputs": [],
      "source": [
        "model = MoneyModel(100)\n",
        "for _ in range(20):\n",
        "    model.step()\n",
        "\n",
        "\n",
        "data = model.datacollector.get_agent_vars_dataframe()\n",
        "# Use seaborn\n",
        "g = sns.histplot(data[\"Wealth\"], discrete=True)\n",
        "g.set(title=\"Wealth distribution\", xlabel=\"Wealth\", ylabel=\"number of agents\");"
      ]
    },
    {
      "cell_type": "markdown",
      "metadata": {
        "id": "lEgo9J9zBiGS"
      },
      "source": [
        "### Group By\n",
        "\n",
        "**Model-specific implementation:** In this case we will give agents an attribute of enthnicity of Green, Blue or Mixed. Green and Blue agents only give money to their ethnicity while Mixed can give money to anyone.\n",
        "\n",
        "**Code Implementation**: Using `groupby` we will execute the above logic in our code by passing a list of grouped agents into our `give_money` function.  To ensure we can plot wealth by group we also need to add ethnicity to our datacollector."
      ]
    },
    {
      "cell_type": "code",
      "execution_count": null,
      "metadata": {
        "id": "AZ4u3fLTBiGT"
      },
      "outputs": [],
      "source": [
        "class MoneyAgent(mesa.Agent):\n",
        "    \"\"\"An agent with fixed initial wealth.\"\"\"\n",
        "\n",
        "    def __init__(self, model, ethnicity):\n",
        "        super().__init__(model)\n",
        "        self.wealth = 1\n",
        "        self.ethnicity = ethnicity\n",
        "\n",
        "    def give_money(self, similars):\n",
        "        if self.wealth > 0:\n",
        "            other_agent = self.random.choice(similars)\n",
        "            other_agent.wealth += 1\n",
        "            self.wealth -= 1\n",
        "\n",
        "\n",
        "class MoneyModel(mesa.Model):\n",
        "    \"\"\"A model with some number of agents.\"\"\"\n",
        "\n",
        "    def __init__(self, n):\n",
        "        super().__init__()\n",
        "        self.num_agents = n\n",
        "\n",
        "        # Create a list of our different ethnicities\n",
        "        ethnicities = [\"Green\", \"Blue\", \"Mixed\"]\n",
        "\n",
        "        # Create agents\n",
        "        MoneyAgent.create_agents(model=self, n=n, ethnicity=self.random.choice(ethnicities))\n",
        "\n",
        "        self.datacollector = mesa.DataCollector(\n",
        "            model_reporters={\"Gini\": compute_gini},\n",
        "            agent_reporters={\"Wealth\": \"wealth\", \"Ethnicity\": \"ethnicity\"},\n",
        "        )\n",
        "\n",
        "    def step(self):\n",
        "        self.datacollector.collect(self)\n",
        "        # groupby returns a dictionary of the different ethnicities with a list of agents\n",
        "        grouped_agents = model.agents.groupby(\"ethnicity\")\n",
        "\n",
        "        for ethnic, similars in grouped_agents:\n",
        "            if ethnic != \"Mixed\":\n",
        "                similars.shuffle_do(\"give_money\", similars)\n",
        "            else:\n",
        "                similars.shuffle_do(\n",
        "                    \"give_money\", self.agents\n",
        "                )  # This allows mixed to trade with anyone"
      ]
    },
    {
      "cell_type": "code",
      "execution_count": null,
      "metadata": {
        "id": "bnHuy1HfBiGT"
      },
      "outputs": [],
      "source": [
        "# Run the model\n",
        "model = MoneyModel(100)\n",
        "for _ in range(20):\n",
        "    model.step()\n",
        "\n",
        "# get the data\n",
        "data = model.datacollector.get_agent_vars_dataframe()\n",
        "# assign histogram colors\n",
        "palette = {\"Green\": \"green\", \"Blue\": \"blue\", \"Mixed\": \"purple\"}\n",
        "sns.histplot(data=data, x=\"Wealth\", hue=\"Ethnicity\", discrete=True, palette=palette)\n",
        "g.set(title=\"Wealth distribution\", xlabel=\"Wealth\", ylabel=\"number of agents\");"
      ]
    },
    {
      "cell_type": "markdown",
      "metadata": {
        "id": "uEjNsZIlBiGT"
      },
      "source": [
        "## Batch Run\n",
        "\n",
        "Like we mentioned above, you usually won't run a model only once, but multiple times, with fixed parameters to find the overall distributions the model generates, and with varying parameters to analyze how they drive the model's outputs and behaviors. This is commonly referred to as parameter sweeps. Instead of needing to write nested for-loops for each model, Mesa provides a [`batch_run`](https://github.com/projectmesa/mesa/blob/main/mesa/batchrunner.py) function which automates it for you.\n",
        "\n",
        "The batch runner also requires an additional variable `self.running` for the MoneyModel class. This variable enables conditional shut off of the model once a condition is met. In this example it will be set as True indefinitely."
      ]
    },
    {
      "cell_type": "markdown",
      "metadata": {
        "id": "vrb8CdJmBiGT"
      },
      "source": [
        "#### Additional agent reporter\n",
        "To make the results a little bit more interesting, we will also calculate the number of consecutive time steps an agent hasn't given any wealth as an agent reporter.\n",
        "\n",
        "This way we can see how data is handled when multiple reporters are used."
      ]
    },
    {
      "cell_type": "code",
      "execution_count": null,
      "metadata": {
        "id": "swXXCAltBiGT"
      },
      "outputs": [],
      "source": [
        "def compute_gini(model):\n",
        "    agent_wealths = [agent.wealth for agent in model.agents]\n",
        "    x = sorted(agent_wealths)\n",
        "    n = model.num_agents\n",
        "    B = sum(xi * (n - i) for i, xi in enumerate(x)) / (n * sum(x))\n",
        "    return 1 + (1 / n) - 2 * B\n",
        "\n",
        "\n",
        "class MoneyModel(mesa.Model):\n",
        "    \"\"\"A model with some number of agents.\"\"\"\n",
        "\n",
        "    def __init__(self, n, width, height, seed=None):\n",
        "        super().__init__(seed=seed)\n",
        "        self.num_agents = n\n",
        "        self.grid = mesa.space.MultiGrid(width, height, True)\n",
        "        self.running = True\n",
        "\n",
        "        # Create agents\n",
        "        agents = MoneyAgent.create_agents(model=self, n=n)\n",
        "        # Create x and y positions for agents\n",
        "        x = self.rng.integers(0, self.grid.width, size=(n,))\n",
        "        y = self.rng.integers(0, self.grid.height, size=(n,))\n",
        "        for a, i, j in zip(agents, x, y):\n",
        "            # Add the agent to a random grid cell\n",
        "            self.grid.place_agent(a, (i, j))\n",
        "\n",
        "        self.datacollector = mesa.DataCollector(\n",
        "            model_reporters={\"Gini\": compute_gini},\n",
        "            agent_reporters={\"Wealth\": \"wealth\", \"Steps_not_given\": \"steps_not_given\"},\n",
        "        )\n",
        "\n",
        "    def step(self):\n",
        "        self.datacollector.collect(self)\n",
        "        self.agents.shuffle_do(\"move\")\n",
        "        self.agents.shuffle_do(\"give_money\")\n",
        "\n",
        "\n",
        "class MoneyAgent(mesa.Agent):\n",
        "    \"\"\"An agent with fixed initial wealth.\"\"\"\n",
        "\n",
        "    def __init__(self, model):\n",
        "        super().__init__(model)\n",
        "        self.wealth = 1\n",
        "        self.steps_not_given = 0\n",
        "\n",
        "    def move(self):\n",
        "        possible_steps = self.model.grid.get_neighborhood(\n",
        "            self.pos, moore=True, include_center=False\n",
        "        )\n",
        "        new_position = self.random.choice(possible_steps)\n",
        "        self.model.grid.move_agent(self, new_position)\n",
        "\n",
        "    def give_money(self):\n",
        "        cellmates = self.model.grid.get_cell_list_contents([self.pos])\n",
        "        cellmates.pop(cellmates.index(self))\n",
        "        if len(cellmates) > 0 and self.wealth > 0:\n",
        "            other = self.random.choice(cellmates)\n",
        "            other.wealth += 1\n",
        "            self.wealth -= 1\n",
        "            self.steps_not_given = 0\n",
        "        else:\n",
        "            self.steps_not_given += 1"
      ]
    },
    {
      "cell_type": "markdown",
      "metadata": {
        "id": "nQVRetaRBiGT"
      },
      "source": [
        "#### Batch run parameters\n",
        "\n",
        "We call `batch_run` with the following arguments:\n",
        "\n",
        "* `model_cls`\n",
        "  The model class that is used for the batch run.\n",
        "* `parameters`\n",
        "  A dictionary containing all the parameters of the model class and desired values to use for the batch run as key-value pairs. Each value can either be fixed ( e.g. `{\"height\": 10, \"width\": 10}`) or an iterable (e.g. `{\"n\": range(10, 500, 10)}`). `batch_run` will then generate all possible parameter combinations based on this dictionary and run the model `iterations` times for each combination.\n",
        "* `number_processes`\n",
        "  If not specified, defaults to 1. Set it to `None` to use all the available processors.\n",
        "  Note: Multiprocessing does make debugging challenging. If your parameter sweeps are resulting in unexpected errors set `number_processes=1`.\n",
        "* `iterations`\n",
        "  The number of iterations to run each parameter combination for. Optional. If not specified, defaults to 1.\n",
        "* `data_collection_period`\n",
        "  The length of the period (number of steps) after which the model and agent reporters collect data. Optional. If not specified, defaults to -1, i.e. only at the end of each episode.\n",
        "* `max_steps`\n",
        "  The maximum number of time steps after which the model halts. An episode does either end when `self.running` of the model class is set to `False` or when `model.steps == max_steps` is reached. Optional. If not specified, defaults to 1000.\n",
        "* `display_progress`\n",
        "  Display the batch run progress. Optional. If not specified, defaults to `True`."
      ]
    },
    {
      "cell_type": "markdown",
      "metadata": {
        "id": "H9E34jqnBiGT"
      },
      "source": [
        "In the following example, we hold the height and width fixed, and vary the number of agents. We tell the batch runner to run 5 instantiations of the model with each number of agents, and to run each for 100 steps.\n",
        "\n",
        "We want to keep track of\n",
        "\n",
        "1. the Gini coefficient value at each time step, and\n",
        "2. the individual agent's wealth development and steps without giving money.\n",
        "\n",
        "**Important:** Since for the latter, changes at each time step might be interesting, we set `data_collection_period=1`. By default, it only collects data at the end of each episode.\n",
        "\n",
        "Note: The total number of runs is 245 (= 49 different populations * 5 iterations per population). However, the resulting list of dictionaries will be of length 6186250 (= 250 average agents per population * 49 different populations * 5 iterations per population * 101 steps per iteration)."
      ]
    },
    {
      "cell_type": "markdown",
      "metadata": {
        "id": "BKzGBOK1BiGU"
      },
      "source": [
        "**Note for Windows OS users:** If you are running this tutorial in Jupyter, make sure that you set `number_processes = 1` (single process). If `number_processes` is greater than 1, it is less straightforward to set up. For details on how to use multiprocessing on windows, see [multiprocessing's programming guidelines](https://docs.python.org/3/library/multiprocessing.html#multiprocessing-programming)."
      ]
    },
    {
      "cell_type": "code",
      "execution_count": null,
      "metadata": {
        "id": "WcjuLXWlBiGU"
      },
      "outputs": [],
      "source": [
        "params = {\"width\": 10, \"height\": 10, \"n\": range(5, 100, 5)}\n",
        "\n",
        "results = mesa.batch_run(\n",
        "    MoneyModel,\n",
        "    parameters=params,\n",
        "    iterations=5,\n",
        "    max_steps=100,\n",
        "    number_processes=1,\n",
        "    data_collection_period=1,\n",
        "    display_progress=True,\n",
        ")"
      ]
    },
    {
      "cell_type": "markdown",
      "metadata": {
        "id": "d0cU6YWOBiGU"
      },
      "source": [
        "To further analyze the return of the `batch_run` function, we convert the list of dictionaries to a Pandas DataFrame and print its keys."
      ]
    },
    {
      "cell_type": "markdown",
      "metadata": {
        "id": "DI27Xo7oBiGU"
      },
      "source": [
        "#### Batch Run Analysis and Visualization"
      ]
    },
    {
      "cell_type": "code",
      "execution_count": null,
      "metadata": {
        "id": "CJBOO3V7BiGU"
      },
      "outputs": [],
      "source": [
        "results_df = pd.DataFrame(results)\n",
        "print(results_df.keys())"
      ]
    },
    {
      "cell_type": "markdown",
      "metadata": {
        "id": "sTYtlAK3BiGU"
      },
      "source": [
        "First, we want to take a closer look at how the Gini coefficient at the end of each episode changes as we increase the size of the population. For this, we filter our results to only contain the data of one agent (the Gini coefficient will be the same for the entire population at any time) at the 100th step of each episode and then scatter-plot the values for the Gini coefficient over the the number of agents. Notice there are five values for each population size since we set `iterations=5` when calling the batch run."
      ]
    },
    {
      "cell_type": "code",
      "execution_count": null,
      "metadata": {
        "id": "60op1p8hBiGU"
      },
      "outputs": [],
      "source": [
        "# Filter the results to only contain the data of one agent (the Gini coefficient will be the same for the entire population at any time) at the 100th step of each episode\n",
        "results_filtered = results_df[(results_df.AgentID == 1) & (results_df.Step == 100)]\n",
        "results_filtered[[\"iteration\", \"n\", \"Gini\"]].reset_index(\n",
        "    drop=True\n",
        ").head()  # Create a scatter plot\n",
        "g = sns.scatterplot(data=results_filtered, x=\"n\", y=\"Gini\")\n",
        "g.set(\n",
        "    xlabel=\"number of agents\",\n",
        "    ylabel=\"Gini coefficient\",\n",
        "    title=\"Gini coefficient vs. number of agents\",\n",
        ");"
      ]
    },
    {
      "cell_type": "markdown",
      "metadata": {
        "collapsed": false,
        "jupyter": {
          "outputs_hidden": false
        },
        "id": "yOxYWr29BiGU"
      },
      "source": [
        "We can create different kinds of plot from this filtered DataFrame. For example, a point plot with error bars."
      ]
    },
    {
      "cell_type": "code",
      "execution_count": null,
      "metadata": {
        "jupyter": {
          "outputs_hidden": false
        },
        "id": "YZymGR4QBiGV"
      },
      "outputs": [],
      "source": [
        "# Create a point plot with error bars\n",
        "g = sns.pointplot(data=results_filtered, x=\"n\", y=\"Gini\", linestyle=\"None\")\n",
        "g.figure.set_size_inches(8, 4)\n",
        "g.set(\n",
        "    xlabel=\"number of agents\",\n",
        "    ylabel=\"Gini coefficient\",\n",
        "    title=\"Gini coefficient vs. number of agents\",\n",
        ");"
      ]
    },
    {
      "cell_type": "markdown",
      "metadata": {
        "id": "rfv5PngCBiGV"
      },
      "source": [
        "Secondly, we want to display the agent's wealth at each time step of one specific episode. To do this, we again filter our large data frame, this time with a fixed number of agents and only for a specific iteration of that population.\n",
        "To print the results, we convert the filtered data frame to a string specifying the desired columns to print.\n",
        "\n",
        "Pandas has built-in functions to convert to a lot of different data formats. For example, to display as a table in a Jupyter notebook, we can use the `to_html()` function which takes the same arguments as `to_string()` (see commented lines)."
      ]
    },
    {
      "cell_type": "code",
      "execution_count": null,
      "metadata": {
        "id": "stmxid-pBiGV"
      },
      "outputs": [],
      "source": [
        "# First, we filter the results\n",
        "one_episode_wealth = results_df[(results_df.n == 10) & (results_df.iteration == 2)]\n",
        "# Then, print the columns of interest of the filtered data frame\n",
        "print(\n",
        "    one_episode_wealth.to_string(\n",
        "        index=False, columns=[\"Step\", \"AgentID\", \"Wealth\"], max_rows=10\n",
        "    )\n",
        ")\n",
        "# For a prettier display we can also convert the data frame to html, uncomment to test in a Jupyter notebook\n",
        "# from IPython.display import display, HTML\n",
        "# display(HTML(one_episode_wealth.to_html(index=False, columns=['Step', 'AgentID', 'Wealth'], max_rows=25)))"
      ]
    },
    {
      "cell_type": "markdown",
      "metadata": {
        "id": "SPVzzd-kBiGV"
      },
      "source": [
        "Lastly, we want to take a look at the development of the Gini coefficient over the course of one iteration. Filtering and printing looks almost the same as above, only this time we choose a different episode."
      ]
    },
    {
      "cell_type": "code",
      "execution_count": null,
      "metadata": {
        "id": "1asGyixyBiGV"
      },
      "outputs": [],
      "source": [
        "results_one_episode = results_df[\n",
        "    (results_df.n == 10) & (results_df.iteration == 1) & (results_df.AgentID == 1)\n",
        "]\n",
        "print(results_one_episode.to_string(index=False, columns=[\"Step\", \"Gini\"], max_rows=10))"
      ]
    },
    {
      "cell_type": "markdown",
      "metadata": {
        "collapsed": false,
        "jupyter": {
          "outputs_hidden": false
        },
        "id": "mRjib9TTBiGV"
      },
      "source": [
        "### Analyzing model reporters: Comparing 5 scenarios\n",
        "Other insights might be gathered when we compare the Gini coefficient of different scenarios. For example, we can compare the Gini coefficient of a population with 25 agents to the Gini coefficient of a population with 400 agents. While doing this, we increase the number of iterations to 25 to get a better estimate of the Gini coefficient for each population size and get usable error estimations.\n",
        "\n",
        "As we look varying the parameters to see the impact on model outcomes, it is critical to again point out that users can set the random seed. Due to the often inherent randomness with ABMs the seed becomes crucial for:\n",
        "- **Reproducibility** - Being able to replicate the ABM results\n",
        "- **Sensitivity Analysis** - Identifying how sensitive/robust your model results are to random fluctuations\n",
        "\n",
        "Treating the seed as an additional parameter and running numerous scenarios allows us to see the impact of randomness on this model."
      ]
    },
    {
      "cell_type": "code",
      "execution_count": null,
      "metadata": {
        "jupyter": {
          "outputs_hidden": false
        },
        "id": "QGRqeLrIBiGV"
      },
      "outputs": [],
      "source": [
        "params = {\"seed\": None, \"width\": 10, \"height\": 10, \"n\": [5, 10, 20, 40, 80]}\n",
        "\n",
        "results_5s = mesa.batch_run(\n",
        "    MoneyModel,\n",
        "    parameters=params,\n",
        "    iterations=25,\n",
        "    max_steps=100,\n",
        "    number_processes=1,\n",
        "    data_collection_period=1,  # Important, otherwise the datacollector will only collect data of the last time step\n",
        "    display_progress=True,\n",
        ")\n",
        "\n",
        "results_5s_df = pd.DataFrame(results_5s)"
      ]
    },
    {
      "cell_type": "code",
      "execution_count": null,
      "metadata": {
        "jupyter": {
          "outputs_hidden": false
        },
        "id": "GOhDLpTPBiGV"
      },
      "outputs": [],
      "source": [
        "# Again filter the results to only contain the data of one agent (the Gini coefficient will be the same for the entire population at any time)\n",
        "results_5s_df_filtered = results_5s_df[(results_5s_df.AgentID == 1)]\n",
        "results_5s_df_filtered.head(3)"
      ]
    },
    {
      "cell_type": "code",
      "execution_count": null,
      "metadata": {
        "jupyter": {
          "outputs_hidden": false
        },
        "id": "OS0HGG19BiGW"
      },
      "outputs": [],
      "source": [
        "# Create a lineplot with error bars\n",
        "g = sns.lineplot(\n",
        "    data=results_5s_df,\n",
        "    x=\"Step\",\n",
        "    y=\"Gini\",\n",
        "    hue=\"n\",\n",
        "    errorbar=(\"ci\", 95),\n",
        "    palette=\"tab10\",\n",
        ")\n",
        "g.figure.set_size_inches(8, 4)\n",
        "plot_title = \"Gini coefficient for different population sizes\\n(mean over 100 runs, with 95% confidence interval)\"\n",
        "g.set(title=plot_title, ylabel=\"Gini coefficient\");"
      ]
    },
    {
      "cell_type": "markdown",
      "metadata": {
        "collapsed": false,
        "jupyter": {
          "outputs_hidden": false
        },
        "id": "ioruy0IlBiGW"
      },
      "source": [
        "In this case it looks like the Gini coefficient increases slower for smaller populations. This can be because of different things, either because the Gini coefficient is a measure of inequality and the smaller the population, the more likely it is that the agents are all in the same wealth class, or because there are less interactions between agents in smaller populations, which means that the wealth of an agent is less likely to change."
      ]
    },
    {
      "cell_type": "code",
      "execution_count": null,
      "metadata": {
        "id": "rFniAjZuBiGW"
      },
      "outputs": [],
      "source": [
        "# Challenge: Treat the seed as a parameter and see the impact on the Gini Coefficient.\n",
        "# You can also plot the seeds against the Gini Coefficient by changing the \"hue\" parameter in sns.lineplot function."
      ]
    },
    {
      "cell_type": "markdown",
      "metadata": {
        "collapsed": false,
        "jupyter": {
          "outputs_hidden": false
        },
        "id": "lJcvp9tPBiGW"
      },
      "source": [
        "### Analyzing agent reporters: Comparing 5 scenarios\n",
        "From the agents we collected the wealth and the number of consecutive rounds without a transaction. We can compare the 5 different population sizes by plotting the average number of consecutive rounds without a transaction for each population size.\n",
        "\n",
        "Note that we're aggregating multiple times here: First we take the average of all agents for each single replication. Then we plot the averages for all replications, with the error band showing the 95% confidence interval of that first average (over all agents). So this error band is representing the uncertainty of the mean value of the number of consecutive rounds without a transaction for each population size."
      ]
    },
    {
      "cell_type": "code",
      "execution_count": null,
      "metadata": {
        "jupyter": {
          "outputs_hidden": false
        },
        "id": "J_c8Hj14BiGW"
      },
      "outputs": [],
      "source": [
        "# Calculate the mean of the wealth and the number of consecutive rounds for all agents in each episode\n",
        "agg_results_df = (\n",
        "    results_5s_df.groupby([\"iteration\", \"n\", \"Step\"])\n",
        "    .agg({\"Wealth\": \"mean\", \"Steps_not_given\": \"mean\"})\n",
        "    .reset_index()\n",
        ")\n",
        "agg_results_df.head(3)"
      ]
    },
    {
      "cell_type": "code",
      "execution_count": null,
      "metadata": {
        "jupyter": {
          "outputs_hidden": false
        },
        "id": "xKvxhD4rBiGX"
      },
      "outputs": [],
      "source": [
        "# Create a line plot with error bars\n",
        "g = sns.lineplot(\n",
        "    data=agg_results_df, x=\"Step\", y=\"Steps_not_given\", hue=\"n\", palette=\"tab10\"\n",
        ")\n",
        "g.figure.set_size_inches(8, 4)\n",
        "g.set(\n",
        "    title=\"Average number of consecutive rounds without a transaction for different population sizes\\n(mean with 95% confidence interval)\",\n",
        "    ylabel=\"Consecutive rounds without a transaction\",\n",
        ");"
      ]
    },
    {
      "cell_type": "markdown",
      "metadata": {
        "collapsed": false,
        "jupyter": {
          "outputs_hidden": false
        },
        "id": "JY_tFnVKBiGX"
      },
      "source": [
        "It can be clearly seen that the lower the number of agents, the higher the number of consecutive rounds without a transaction. This is because the agents have fewer interactions with each other and therefore the wealth of an agent is less likely to change."
      ]
    },
    {
      "cell_type": "markdown",
      "metadata": {
        "collapsed": false,
        "jupyter": {
          "outputs_hidden": false
        },
        "id": "b7WZbeeIBiGX"
      },
      "source": [
        "### General steps for analyzing results\n",
        "\n",
        "Many other analysis are possible based on the policies, scenarios and uncertainties that you might be interested in. In general, you can follow these steps to do your own analysis:\n",
        "\n",
        "1. Determine which metrics you want to analyse. Add these as model and agent reporters to the datacollector of your model.\n",
        "2. Determine the input parameters you want to vary. Add these as parameters to the batch_run function, using ranges or lists to test different values.\n",
        "3. Determine the hyperparameters of the batch_run function. Define the number of iterations, the number of processes, the number of steps, the data collection period, etc.\n",
        "4. Run the batch_run function and save the results.\n",
        "5. Transform, filter and aggregate the results to get the data you want to analyze. Make sure it's in long format, so that each row represents a single value.\n",
        "6. Choose a plot type, what to plot on the x and y axis, which columns to use for the hue. Seaborn also has an amazing [Example Gallery](https://seaborn.pydata.org/examples/index.html).\n",
        "7. Plot the data and analyze the results."
      ]
    },
    {
      "cell_type": "code",
      "execution_count": null,
      "metadata": {
        "id": "m5w7rLo9BiGX"
      },
      "outputs": [],
      "source": [
        "# Challenge update the model, conduct a batch run with a parameter sweep, and visualize your results"
      ]
    },
    {
      "cell_type": "markdown",
      "metadata": {
        "id": "VJUrIz3tBiGX"
      },
      "source": [
        "## Next Steps\n",
        "\n",
        "Check out the [visualization tutorial](https://mesa.readthedocs.io/latest/tutorials/visualization_tutorial.html) on how to build interactive dashboards for your models."
      ]
    },
    {
      "cell_type": "markdown",
      "metadata": {
        "id": "PRVbrvq3BiGY"
      },
      "source": [
        "## Happy Modeling!\n",
        "\n",
        "This document is a work in progress.  If you see any errors, exclusions or have any problems please contact [us](https://github.com/projectmesa/mesa/issues)."
      ]
    },
    {
      "cell_type": "markdown",
      "metadata": {
        "id": "lw4noZvJBiGY"
      },
      "source": [
        "[Comer2014] Comer, Kenneth W. “Who Goes First? An Examination of the Impact of Activation on Outcome Behavior in AgentBased Models.” George Mason University, 2014. http://mars.gmu.edu/bitstream/handle/1920/9070/Comer_gmu_0883E_10539.pdf\n",
        "\n",
        "[Dragulescu2002] Drăgulescu, Adrian A., and Victor M. Yakovenko. “Statistical Mechanics of Money, Income, and Wealth: A Short Survey.” arXiv Preprint Cond-mat/0211175, 2002. http://arxiv.org/abs/cond-mat/0211175."
      ]
    }
  ],
  "metadata": {
    "anaconda-cloud": {},
    "kernelspec": {
      "display_name": "Python 3 (ipykernel)",
      "language": "python",
      "name": "python3"
    },
    "language_info": {
      "codemirror_mode": {
        "name": "ipython",
        "version": 3
      },
      "file_extension": ".py",
      "mimetype": "text/x-python",
      "name": "python",
      "nbconvert_exporter": "python",
      "pygments_lexer": "ipython3",
      "version": "3.12.3"
    },
    "colab": {
      "provenance": []
    }
  },
  "nbformat": 4,
  "nbformat_minor": 0
}